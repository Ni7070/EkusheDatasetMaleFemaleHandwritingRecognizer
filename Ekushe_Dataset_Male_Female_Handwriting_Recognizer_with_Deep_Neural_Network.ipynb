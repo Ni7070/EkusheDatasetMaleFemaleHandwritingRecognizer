{
  "nbformat": 4,
  "nbformat_minor": 0,
  "metadata": {
    "colab": {
      "name": "Ekushe Dataset Male Female Handwriting Recognizer with Deep Neural Network.ipynb",
      "provenance": [],
      "collapsed_sections": [],
      "include_colab_link": true
    },
    "kernelspec": {
      "name": "python3",
      "display_name": "Python 3"
    },
    "accelerator": "GPU"
  },
  "cells": [
    {
      "cell_type": "markdown",
      "metadata": {
        "id": "view-in-github",
        "colab_type": "text"
      },
      "source": [
        "<a href=\"https://colab.research.google.com/github/Ni7070/EkusheDatasetMaleFemaleHandwritingRecognizer/blob/main/Ekushe_Dataset_Male_Female_Handwriting_Recognizer_with_Deep_Neural_Network.ipynb\" target=\"_parent\"><img src=\"https://colab.research.google.com/assets/colab-badge.svg\" alt=\"Open In Colab\"/></a>"
      ]
    },
    {
      "cell_type": "code",
      "metadata": {
        "id": "7enJszPDcSt1"
      },
      "source": [
        "import torch\n",
        "import torch.nn as nn\n",
        "import torch.nn.functional as F\n",
        "import torchvision\n",
        "from torchvision.transforms import transforms\n",
        "from torch.utils.data import DataLoader\n",
        "from torch.utils.data import Dataset\n",
        "\n",
        "\n",
        "import numpy as np\n",
        "import pandas as pd\n",
        "import matplotlib\n",
        "import matplotlib.pyplot as plt\n",
        "from PIL import Image\n",
        "\n",
        "import os\n",
        "from os import path\n",
        "import shutil\n",
        "import glob"
      ],
      "execution_count": null,
      "outputs": []
    },
    {
      "cell_type": "code",
      "metadata": {
        "colab": {
          "base_uri": "https://localhost:8080/"
        },
        "id": "NZYEXVwOccVW",
        "outputId": "2f1539c0-408b-4367-a42b-b2a2aada5681"
      },
      "source": [
        "from google.colab import drive\n",
        "#drive.flush_and_unmount()\n",
        "drive.mount('/content/gdrive')"
      ],
      "execution_count": null,
      "outputs": [
        {
          "output_type": "stream",
          "text": [
            "Mounted at /content/gdrive\n"
          ],
          "name": "stdout"
        }
      ]
    },
    {
      "cell_type": "code",
      "metadata": {
        "id": "R45y_XuhchP2"
      },
      "source": [
        "#taking csv files\n",
        "female_digit = pd.read_csv(\"/content/gdrive/MyDrive/Colab Notebooks/ekushCSV/Female/femaleDigits.csv\")\n",
        "male_digit = pd.read_csv(\"/content/gdrive/MyDrive/Colab Notebooks/ekushCSV/Male/maleDigits.csv\")"
      ],
      "execution_count": null,
      "outputs": []
    },
    {
      "cell_type": "code",
      "metadata": {
        "id": "oWgjfiVFcu6l"
      },
      "source": [
        "#changing the label colums value for female 1, male 0\n",
        "female_digit['label'] = 1\n",
        "male_digit['label'] = 0"
      ],
      "execution_count": null,
      "outputs": []
    },
    {
      "cell_type": "code",
      "metadata": {
        "id": "7YdeH0rXc-di"
      },
      "source": [
        "#concating all labels \n",
        "female_label = female_digit['label']\n",
        "\n",
        "male_label = male_digit['label']\n",
        "\n",
        "labels = pd.concat([female_label, male_label],ignore_index=True)"
      ],
      "execution_count": null,
      "outputs": []
    },
    {
      "cell_type": "code",
      "metadata": {
        "id": "3xwL62AqdkOn"
      },
      "source": [
        "#concating all images\n",
        "images = pd.concat([female_digit, male_digit],ignore_index=True)\n",
        "images = images.drop(labels='label',axis=1)\n",
        "print(images.shape)\n",
        "print(images)\n",
        "print(labels)\n",
        "print(labels.shape)"
      ],
      "execution_count": null,
      "outputs": []
    },
    {
      "cell_type": "code",
      "metadata": {
        "id": "1onMFYtVeRN_"
      },
      "source": [
        "#normalizing and reshaping images\n",
        "images = images/255.0\n",
        "images = images.values.reshape(-1,28,28,1)"
      ],
      "execution_count": null,
      "outputs": []
    },
    {
      "cell_type": "code",
      "metadata": {
        "colab": {
          "base_uri": "https://localhost:8080/",
          "height": 299
        },
        "id": "0ZI1bEJMeZBo",
        "outputId": "6bc3a314-adfc-44df-d896-864f8a02735b"
      },
      "source": [
        "#plotting a digit\n",
        "import matplotlib.pyplot as plt \n",
        "import numpy as np\n",
        "\n",
        "i = 30820\n",
        "show_img = images[i].reshape(28, 28)\n",
        "plt.imshow(show_img, cmap='gray')\n",
        "print(labels[i])\n",
        "if(labels[i]==1):\n",
        "  print(\"female writing\")\n",
        "else:\n",
        "  print(\"male writing\")\n"
      ],
      "execution_count": null,
      "outputs": [
        {
          "output_type": "stream",
          "text": [
            "0\n",
            "male writing\n"
          ],
          "name": "stdout"
        },
        {
          "output_type": "display_data",
          "data": {
            "image/png": "[encoded data removed]",
            "text/plain": [
              "<Figure size 432x288 with 1 Axes>"
            ]
          },
          "metadata": {
            "tags": [],
            "needs_background": "light"
          }
        }
      ]
    },
    {
      "cell_type": "code",
      "metadata": {
        "id": "1UcyGOUoe_5r"
      },
      "source": [
        "#split data into train:test = 90:10\n",
        "from sklearn.model_selection import train_test_split\n",
        "image_train, image_test, label_train, label_test = train_test_split(images, labels, test_size=0.1)\n",
        "print(image_test)"
      ],
      "execution_count": null,
      "outputs": []
    },
    {
      "cell_type": "code",
      "metadata": {
        "id": "R6Q2fTPlfT3S"
      },
      "source": [
        "#creating dataset\n",
        "train_dataset = list(zip(image_train, label_train))\n",
        "test_dataset = list(zip(image_test, label_test))"
      ],
      "execution_count": null,
      "outputs": []
    },
    {
      "cell_type": "markdown",
      "metadata": {
        "id": "5R4_6jWgUr_N"
      },
      "source": [
        "#Settings 01:#"
      ]
    },
    {
      "cell_type": "code",
      "metadata": {
        "colab": {
          "base_uri": "https://localhost:8080/"
        },
        "id": "F7D4ZmzxP1p-",
        "outputId": "d4c1e4d0-040d-4115-e3d8-0930fe6e20d7"
      },
      "source": [
        "# Hyperparameters\n",
        "batch_size = 64\n",
        "num_iters = 10000\n",
        "input_dim = 28*28 # num_features = 784\n",
        "num_hidden = 120\n",
        "output_dim = 10\n",
        "\n",
        "learning_rate = 0.001\n",
        "\n",
        "# Device\n",
        "device = torch.device(\"cuda:0\" if torch.cuda.is_available() else \"cpu\")\n",
        "\n",
        "\n",
        "train_dataset = list(zip(image_train, label_train))\n",
        "\n",
        "test_dataset = list(zip(image_test, label_test))\n",
        "\n",
        "\n",
        "num_epochs = num_iters / (len(train_dataset) / batch_size)\n",
        "num_epochs = int(num_epochs)\n",
        "\n",
        "train_loader = torch.utils.data.DataLoader(dataset=train_dataset, \n",
        "                                           batch_size=batch_size, \n",
        "                                           shuffle=True)   # It's better to shuffle the whole training dataset! \n",
        "\n",
        "test_loader = torch.utils.data.DataLoader(dataset=test_dataset, \n",
        "                                          batch_size=batch_size, \n",
        "                                          shuffle=False) \n",
        "\n",
        "class NeuralNetworkModel(nn.Module):\n",
        "    def __init__(self, input_size, num_classes, num_hidden):\n",
        "        super().__init__()\n",
        "        ### 1st hidden layer: 784 --> 100\n",
        "        self.linear_1 = nn.Linear(784, num_hidden)\n",
        "        ### Non-linearity in 1st hidden layer\n",
        "        self.tanh = nn.Tanh()\n",
        "\n",
        "        ### 2nd hidden layer: 100 --> 100\n",
        "        self.linear_2 = nn.Linear(num_hidden, num_hidden)\n",
        "        ### Non-linearity in 2nd hidden layer\n",
        "        self.leaky_relu_1 = nn.LeakyReLU()\n",
        "\n",
        "        ### 3rd hidden layer: 100 --> 100\n",
        "        self.linear_3 = nn.Linear(num_hidden, num_hidden)\n",
        "        ### Non-linearity in 3rd hidden layer\n",
        "        self.relu_1 = nn.ReLU6()\n",
        "\n",
        "\n",
        "        self.linear_5 = nn.Linear(num_hidden, num_hidden)\n",
        "        self.sigmoid = nn.Sigmoid()\n",
        "\n",
        "        ### Output layer: 100 --> 10\n",
        "        self.linear_out = nn.Linear(num_hidden, num_classes)\n",
        "\n",
        "    def forward(self, x):\n",
        "        ## 1st hidden layer\n",
        "        out  = self.linear_1(x)\n",
        "        ### Non-linearity in 1st hidden layer\n",
        "        out = self.tanh(out)\n",
        "        \n",
        "        ### 2nd hidden layer\n",
        "        out  = self.linear_2(out)\n",
        "        ### Non-linearity in 2nd hidden layer\n",
        "        out = self.leaky_relu_1(out)\n",
        "\n",
        "        ### 3rd hidden layer\n",
        "        out  = self.linear_3(out)\n",
        "        ### Non-linearity in 3rd hidden layer\n",
        "        out = self.relu_1(out)\n",
        "\n",
        "        ### 4th hidden layer \n",
        "        out  = self.linear_5(out)\n",
        "        ### Non-linearity in 4th hidden layer\n",
        "        out = self.sigmoid(out)\n",
        "        \n",
        "        # Linear layer (output)\n",
        "        logits  = self.linear_out(out)\n",
        "        probas = F.softmax(logits, dim=1)\n",
        "        return probas\n",
        "\n",
        "\n",
        "model = NeuralNetworkModel(input_size = input_dim,\n",
        "                           num_classes = output_dim,\n",
        "                           num_hidden = num_hidden)\n",
        "# To enable GPU\n",
        "model.to(device)\n",
        "\n",
        "criterion = nn.CrossEntropyLoss()\n",
        "optimizer = torch.optim.Adamax(model.parameters(), lr=learning_rate)\n",
        "'''\n",
        "TRAIN THE MODEL\n",
        "'''\n",
        "iter = 0\n",
        "iteration_loss = []\n",
        "for epoch in range(num_epochs):\n",
        "    for i, (images, labels) in enumerate(train_loader):\n",
        "\n",
        "        images = images.view(-1, 28*28).to(device)\n",
        "        labels = labels.to(device)\n",
        "\n",
        "        # Clear gradients w.r.t. parameters\n",
        "        optimizer.zero_grad()\n",
        "\n",
        "        # Forward pass to get output/logits\n",
        "        outputs = model(images.float()) \n",
        "\n",
        "        # Calculate Loss: softmax --> cross entropy loss\n",
        "        loss = criterion(outputs, labels)\n",
        "\n",
        "        # Getting gradients w.r.t. parameters\n",
        "        loss.backward()\n",
        "\n",
        "        # Updating parameters\n",
        "        optimizer.step()\n",
        "\n",
        "        iter += 1\n",
        "\n",
        "        if iter % 500 == 0:\n",
        "            # Calculate Accuracy         \n",
        "            correct = 0\n",
        "            total = 0\n",
        "            # Iterate through test dataset\n",
        "            for images, labels in test_loader:\n",
        "               \n",
        "                images = images.view(-1, 28*28).to(device)\n",
        "\n",
        "                # Forward pass only to get logits/output\n",
        "                outputs = model(images.float())\n",
        "\n",
        "                # Get predictions from the maximum value\n",
        "                _, predicted = torch.max(outputs, 1)\n",
        "\n",
        "                # Total number of labels\n",
        "                total += labels.size(0)\n",
        "\n",
        "\n",
        "                # Total correct predictions\n",
        "                if torch.cuda.is_available():\n",
        "                    correct += (predicted.cpu() == labels.cpu()).sum() \n",
        "                else:\n",
        "                    correct += (predicted == labels).sum()\n",
        "\n",
        "            accuracy = 100 * correct.item() / total\n",
        "\n",
        "            # Print Loss\n",
        "            iteration_loss.append(loss.item())\n",
        "            print('Iteration: {}. Loss: {}. Accuracy: {}'.format(iter, loss.item(), accuracy))"
      ],
      "execution_count": null,
      "outputs": [
        {
          "output_type": "stream",
          "text": [
            "Iteration: 500. Loss: 1.9038654565811157. Accuracy: 58.64417774894583\n",
            "Iteration: 1000. Loss: 1.8827110528945923. Accuracy: 59.6496918585793\n",
            "Iteration: 1500. Loss: 1.8789058923721313. Accuracy: 60.201102821926696\n",
            "Iteration: 2000. Loss: 1.7878327369689941. Accuracy: 59.29289652935452\n",
            "Iteration: 2500. Loss: 1.8393644094467163. Accuracy: 59.584819980538434\n",
            "Iteration: 3000. Loss: 1.9517732858657837. Accuracy: 62.244566980214074\n",
            "Iteration: 3500. Loss: 1.760406255722046. Accuracy: 60.10379500486539\n",
            "Iteration: 4000. Loss: 1.782341718673706. Accuracy: 61.66072007784626\n",
            "Iteration: 4500. Loss: 1.8069168329238892. Accuracy: 61.758027894907556\n",
            "Iteration: 5000. Loss: 1.9205055236816406. Accuracy: 61.53097632176451\n",
            "Iteration: 5500. Loss: 1.8346781730651855. Accuracy: 62.40674667531625\n",
            "Iteration: 6000. Loss: 1.9451041221618652. Accuracy: 60.00648718780409\n",
            "Iteration: 6500. Loss: 1.8043040037155151. Accuracy: 61.790463833927994\n",
            "Iteration: 7000. Loss: 1.909275770187378. Accuracy: 61.822899772948425\n",
            "Iteration: 7500. Loss: 1.808551549911499. Accuracy: 62.11482322413234\n",
            "Iteration: 8000. Loss: 1.7962114810943604. Accuracy: 61.88777165098929\n",
            "Iteration: 8500. Loss: 1.843078374862671. Accuracy: 62.147259163152775\n",
            "Iteration: 9000. Loss: 1.760352611541748. Accuracy: 62.27700291923451\n",
            "Iteration: 9500. Loss: 1.7305388450622559. Accuracy: 62.504054492377556\n"
          ],
          "name": "stdout"
        }
      ]
    },
    {
      "cell_type": "code",
      "metadata": {
        "colab": {
          "base_uri": "https://localhost:8080/",
          "height": 316
        },
        "id": "0UcIFg0JUGFn",
        "outputId": "1b3507a2-b7d0-4de9-83ab-7d9186890548"
      },
      "source": [
        "import matplotlib\n",
        "import matplotlib.pyplot as plt\n",
        "\n",
        "print (iteration_loss)\n",
        "plt.plot(iteration_loss)\n",
        "plt.ylabel('Cross Entropy Loss')\n",
        "plt.xlabel('Iteration (in every 500)')\n",
        "plt.show()"
      ],
      "execution_count": null,
      "outputs": [
        {
          "output_type": "stream",
          "text": [
            "[1.9038654565811157, 1.8827110528945923, 1.8789058923721313, 1.7878327369689941, 1.8393644094467163, 1.9517732858657837, 1.760406255722046, 1.782341718673706, 1.8069168329238892, 1.9205055236816406, 1.8346781730651855, 1.9451041221618652, 1.8043040037155151, 1.909275770187378, 1.808551549911499, 1.7962114810943604, 1.843078374862671, 1.760352611541748, 1.7305388450622559]\n"
          ],
          "name": "stdout"
        },
        {
          "output_type": "display_data",
          "data": {
            "image/png": "[encoded data removed]",
            "text/plain": [
              "<Figure size 432x288 with 1 Axes>"
            ]
          },
          "metadata": {
            "tags": [],
            "needs_background": "light"
          }
        }
      ]
    },
    {
      "cell_type": "markdown",
      "metadata": {
        "id": "KH65NWW9U9ws"
      },
      "source": [
        "#Settings 02:#"
      ]
    },
    {
      "cell_type": "code",
      "metadata": {
        "colab": {
          "base_uri": "https://localhost:8080/"
        },
        "id": "aOcAxA_MVfuh",
        "outputId": "96fee460-e7ba-496b-ac4a-1255b4e6840b"
      },
      "source": [
        "# Hyperparameters \n",
        "batch_size = 80\n",
        "num_iters = 6000\n",
        "input_dim = 28*28 # num_features = 784\n",
        "num_hidden = 50\n",
        "output_dim = 10\n",
        "\n",
        "learning_rate = 0.005\n",
        "\n",
        "# Device\n",
        "device = torch.device(\"cuda:0\" if torch.cuda.is_available() else \"cpu\")\n",
        "\n",
        "\n",
        "train_dataset = list(zip(image_train, label_train))\n",
        "\n",
        "test_dataset = list(zip(image_test, label_test))\n",
        "\n",
        "\n",
        "num_epochs = num_iters / (len(train_dataset) / batch_size)\n",
        "num_epochs = int(num_epochs)\n",
        "\n",
        "train_loader = torch.utils.data.DataLoader(dataset=train_dataset, \n",
        "                                           batch_size=batch_size, \n",
        "                                           shuffle=True)   # It's better to shuffle the whole training dataset! \n",
        "\n",
        "test_loader = torch.utils.data.DataLoader(dataset=test_dataset, \n",
        "                                          batch_size=batch_size, \n",
        "                                          shuffle=False) \n",
        "\n",
        "class NeuralNetworkModel(nn.Module):\n",
        "    def __init__(self, input_size, num_classes, num_hidden):\n",
        "        super().__init__()\n",
        "        ### 1st hidden layer\n",
        "        self.linear_1 = nn.Linear(input_size, num_hidden)\n",
        "\n",
        "        ### Non-linearity\n",
        "        self.relu = nn.ReLU6()\n",
        "\n",
        "        ### Output layer\n",
        "        self.linear_out = nn.Linear(num_hidden, num_classes)\n",
        "\n",
        "    def forward(self, x):\n",
        "        # Linear layer\n",
        "        out  = self.linear_1(x)\n",
        "        # Non-linearity\n",
        "        out = self.relu(out)\n",
        "        # Linear layer (output)\n",
        "        probas  = self.linear_out(out)\n",
        "        return probas\n",
        "\n",
        "model = NeuralNetworkModel(input_size = input_dim,\n",
        "                           num_classes = output_dim,\n",
        "                           num_hidden = num_hidden)\n",
        "# To enable GPU\n",
        "model.to(device)\n",
        "\n",
        "criterion = nn.CrossEntropyLoss()\n",
        "optimizer = torch.optim.Adamax(model.parameters(), lr=learning_rate)\n",
        "\n",
        "'''\n",
        "TRAIN THE MODEL\n",
        "'''\n",
        "iter = 0\n",
        "iteration_loss = []\n",
        "for epoch in range(num_epochs):\n",
        "    for i, (images, labels) in enumerate(train_loader):\n",
        "\n",
        "        images = images.view(-1, 28*28).to(device)\n",
        "        labels = labels.to(device)\n",
        "\n",
        "        # Clear gradients w.r.t. parameters\n",
        "        optimizer.zero_grad()\n",
        "\n",
        "        # Forward pass to get output/logits\n",
        "        outputs = model(images.float()) \n",
        "\n",
        "        # Calculate Loss: softmax --> cross entropy loss\n",
        "        loss = criterion(outputs, labels)\n",
        "\n",
        "        # Getting gradients w.r.t. parameters\n",
        "        loss.backward()\n",
        "\n",
        "        # Updating parameters\n",
        "        optimizer.step()\n",
        "\n",
        "        iter += 1\n",
        "\n",
        "        if iter % 500 == 0:\n",
        "            # Calculate Accuracy         \n",
        "            correct = 0\n",
        "            total = 0\n",
        "            # Iterate through test dataset\n",
        "            for images, labels in test_loader:\n",
        "               \n",
        "                images = images.view(-1, 28*28).to(device)\n",
        "\n",
        "                # Forward pass only to get logits/output\n",
        "                outputs = model(images.float())\n",
        "\n",
        "                # Get predictions from the maximum value\n",
        "                _, predicted = torch.max(outputs, 1)\n",
        "\n",
        "                # Total number of labels\n",
        "                total += labels.size(0)\n",
        "\n",
        "\n",
        "                # Total correct predictions\n",
        "                if torch.cuda.is_available():\n",
        "                    correct += (predicted.cpu() == labels.cpu()).sum() \n",
        "                else:\n",
        "                    correct += (predicted == labels).sum()\n",
        "\n",
        "            accuracy = 100 * correct.item() / total\n",
        "\n",
        "            # Print Loss\n",
        "            iteration_loss.append(loss.item())\n",
        "            print('Iteration: {}. Loss: {}. Accuracy: {}'.format(iter, loss.item(), accuracy))"
      ],
      "execution_count": null,
      "outputs": [
        {
          "output_type": "stream",
          "text": [
            "Iteration: 500. Loss: 0.6791590452194214. Accuracy: 59.941615309763215\n",
            "Iteration: 1000. Loss: 0.6645830273628235. Accuracy: 61.88777165098929\n",
            "Iteration: 1500. Loss: 0.6402636170387268. Accuracy: 62.082387285111906\n",
            "Iteration: 2000. Loss: 0.6190427541732788. Accuracy: 61.07687317547843\n",
            "Iteration: 2500. Loss: 0.6426941156387329. Accuracy: 61.43366850470321\n",
            "Iteration: 3000. Loss: 0.64045250415802. Accuracy: 62.179695102173206\n",
            "Iteration: 3500. Loss: 0.5313791036605835. Accuracy: 61.790463833927994\n",
            "Iteration: 4000. Loss: 0.6320759057998657. Accuracy: 62.925721699643205\n",
            "Iteration: 4500. Loss: 0.542967677116394. Accuracy: 61.758027894907556\n",
            "Iteration: 5000. Loss: 0.5392397046089172. Accuracy: 62.79597794356147\n",
            "Iteration: 5500. Loss: 0.5244557857513428. Accuracy: 62.244566980214074\n"
          ],
          "name": "stdout"
        }
      ]
    },
    {
      "cell_type": "code",
      "metadata": {
        "colab": {
          "base_uri": "https://localhost:8080/",
          "height": 316
        },
        "id": "R8bTL-xiXcPh",
        "outputId": "e5c7c1d2-70c2-40cb-c011-d3a6114ab196"
      },
      "source": [
        "import matplotlib\n",
        "import matplotlib.pyplot as plt\n",
        "\n",
        "print (iteration_loss)\n",
        "plt.plot(iteration_loss)\n",
        "plt.ylabel('Cross Entropy Loss')\n",
        "plt.xlabel('Iteration (in every 500)')\n",
        "plt.show()"
      ],
      "execution_count": null,
      "outputs": [
        {
          "output_type": "stream",
          "text": [
            "[0.6791590452194214, 0.6645830273628235, 0.6402636170387268, 0.6190427541732788, 0.6426941156387329, 0.64045250415802, 0.5313791036605835, 0.6320759057998657, 0.542967677116394, 0.5392397046089172, 0.5244557857513428]\n"
          ],
          "name": "stdout"
        },
        {
          "output_type": "display_data",
          "data": {
            "image/png": "[encoded data removed]",
            "text/plain": [
              "<Figure size 432x288 with 1 Axes>"
            ]
          },
          "metadata": {
            "tags": [],
            "needs_background": "light"
          }
        }
      ]
    },
    {
      "cell_type": "markdown",
      "metadata": {
        "id": "aVNaSWI5YD6B"
      },
      "source": [
        "#Settings:03#"
      ]
    },
    {
      "cell_type": "code",
      "metadata": {
        "colab": {
          "base_uri": "https://localhost:8080/"
        },
        "id": "Nrn70u62Wlf5",
        "outputId": "588a7499-cd0c-44fb-a698-9f793e22dcef"
      },
      "source": [
        "# Hyperparameters\n",
        "batch_size = 80\n",
        "num_iters = 10000\n",
        "input_dim = 28*28 # num_features = 784\n",
        "num_hidden = 64\n",
        "output_dim = 10\n",
        "\n",
        "learning_rate = 0.001\n",
        "\n",
        "# Device\n",
        "device = torch.device(\"cuda:0\" if torch.cuda.is_available() else \"cpu\")\n",
        "\n",
        "\n",
        "train_dataset = list(zip(image_train, label_train))\n",
        "\n",
        "test_dataset = list(zip(image_test, label_test))\n",
        "\n",
        "\n",
        "num_epochs = num_iters / (len(train_dataset) / batch_size)\n",
        "num_epochs = int(num_epochs)\n",
        "\n",
        "train_loader = torch.utils.data.DataLoader(dataset=train_dataset, \n",
        "                                           batch_size=batch_size, \n",
        "                                           shuffle=True)  \n",
        "\n",
        "test_loader = torch.utils.data.DataLoader(dataset=test_dataset, \n",
        "                                          batch_size=batch_size, \n",
        "                                          shuffle=False) \n",
        "\n",
        "class DeepNeuralNetworkModel(nn.Module):\n",
        "    def __init__(self, input_size, num_classes, num_hidden):\n",
        "        super().__init__()\n",
        "        ### 1st hidden layer:\n",
        "        self.linear_1 = nn.Linear(input_size, 512)\n",
        "        ### Non-linearity in 1st hidden layer\n",
        "        self.relu_1 = nn.Tanh()\n",
        "\n",
        "        ### 2nd hidden layer:\n",
        "        self.linear_2 = nn.Linear(512, 256)\n",
        "        ### Non-linearity in 2nd hidden layer\n",
        "        self.leaky_relu_1 = nn.LeakyReLU()\n",
        "\n",
        "        ### 3rd hidden layer: \n",
        "        self.linear_3 = nn.Linear(256, 128)\n",
        "        ### Non-linearity in 3rd hidden layer\n",
        "        self.relu_3 = nn.ReLU6()\n",
        "\n",
        "        self.linear_4 = nn.Linear(128, 64)\n",
        "        self.sigmoid = nn.Sigmoid()\n",
        "\n",
        "        ### Output layer: \n",
        "        self.linear_out = nn.Linear(64, num_classes)\n",
        "\n",
        "    def forward(self, x):\n",
        "        ### 1st hidden layer\n",
        "        out  = self.linear_1(x)\n",
        "        ### Non-linearity in 1st hidden layer\n",
        "        out = self.relu_1(out)\n",
        "        \n",
        "        ### 2nd hidden layer\n",
        "        out  = self.linear_2(out)\n",
        "        ### Non-linearity in 2nd hidden layer\n",
        "        out = self.leaky_relu_1(out)\n",
        "\n",
        "        ### 3rd hidden layer\n",
        "        out  = self.linear_3(out)\n",
        "        ### Non-linearity in 3rd hidden layer\n",
        "        out = self.relu_3(out)\n",
        "\n",
        "        ### 4th hidden layer\n",
        "        out  = self.linear_4(out)\n",
        "        ### Non-linearity in 4th hidden layer\n",
        "        out = self.sigmoid(out)\n",
        "        \n",
        "        # Linear layer (output)\n",
        "        logits  = self.linear_out(out)\n",
        "        probas = F.softmax(logits, dim=1)\n",
        "        return probas\n",
        "\n",
        "\n",
        "model = DeepNeuralNetworkModel(input_size = input_dim,\n",
        "                               num_classes = output_dim,\n",
        "                               num_hidden = num_hidden)\n",
        "# To enable GPU\n",
        "model.to(device)\n",
        "\n",
        "criterion = nn.CrossEntropyLoss()\n",
        "optimizer = torch.optim.Adamax(model.parameters(), lr=learning_rate)\n",
        "\n",
        "'''\n",
        "TRAIN THE MODEL\n",
        "'''\n",
        "iter = 0\n",
        "iteration_loss = []\n",
        "for epoch in range(num_epochs):\n",
        "    for i, (images, labels) in enumerate(train_loader):\n",
        "\n",
        "        images = images.view(-1, 28*28).to(device)\n",
        "        labels = labels.to(device)\n",
        "\n",
        "        # Clear gradients w.r.t. parameters\n",
        "        optimizer.zero_grad()\n",
        "\n",
        "        # Forward pass to get output/logits\n",
        "        outputs = model(images.float()) \n",
        "\n",
        "        # Calculate Loss: softmax --> cross entropy loss\n",
        "        loss = criterion(outputs, labels)\n",
        "\n",
        "        # Getting gradients w.r.t. parameters\n",
        "        loss.backward()\n",
        "\n",
        "        # Updating parameters\n",
        "        optimizer.step()\n",
        "\n",
        "        iter += 1\n",
        "\n",
        "        if iter % 500 == 0:\n",
        "            # Calculate Accuracy         \n",
        "            correct = 0\n",
        "            total = 0\n",
        "            # Iterate through test dataset\n",
        "            for images, labels in test_loader:\n",
        "               \n",
        "                images = images.view(-1, 28*28).to(device)\n",
        "\n",
        "                # Forward pass only to get logits/output\n",
        "                outputs = model(images.float())\n",
        "\n",
        "                # Get predictions from the maximum value\n",
        "                _, predicted = torch.max(outputs, 1)\n",
        "\n",
        "                # Total number of labels\n",
        "                total += labels.size(0)\n",
        "\n",
        "\n",
        "                # Total correct predictions\n",
        "                if torch.cuda.is_available():\n",
        "                    correct += (predicted.cpu() == labels.cpu()).sum() \n",
        "                else:\n",
        "                    correct += (predicted == labels).sum()\n",
        "\n",
        "            accuracy = 100 * correct.item() / total\n",
        "\n",
        "            # Print Loss\n",
        "            iteration_loss.append(loss.item())\n",
        "            print('Iteration: {}. Loss: {}. Accuracy: {}'.format(iter, loss.item(), accuracy))"
      ],
      "execution_count": null,
      "outputs": [
        {
          "output_type": "stream",
          "text": [
            "Iteration: 500. Loss: 1.8505198955535889. Accuracy: 57.83327927343497\n",
            "Iteration: 1000. Loss: 1.9314582347869873. Accuracy: 60.33084657800843\n",
            "Iteration: 1500. Loss: 1.8860054016113281. Accuracy: 59.422640285436266\n",
            "Iteration: 2000. Loss: 1.912601113319397. Accuracy: 60.52546221213104\n",
            "Iteration: 2500. Loss: 1.7948334217071533. Accuracy: 61.012001297437564\n",
            "Iteration: 3000. Loss: 1.8930346965789795. Accuracy: 61.1417450535193\n",
            "Iteration: 3500. Loss: 1.8324543237686157. Accuracy: 61.56341226078495\n",
            "Iteration: 4000. Loss: 1.8578836917877197. Accuracy: 60.10379500486539\n",
            "Iteration: 4500. Loss: 1.8828725814819336. Accuracy: 61.69315601686669\n",
            "Iteration: 5000. Loss: 1.8182437419891357. Accuracy: 61.85533571196886\n",
            "Iteration: 5500. Loss: 1.817087173461914. Accuracy: 61.69315601686669\n",
            "Iteration: 6000. Loss: 1.755921721458435. Accuracy: 62.21213104119364\n",
            "Iteration: 6500. Loss: 1.8391952514648438. Accuracy: 61.822899772948425\n",
            "Iteration: 7000. Loss: 1.7613853216171265. Accuracy: 61.95264352903016\n",
            "Iteration: 7500. Loss: 1.8369462490081787. Accuracy: 62.504054492377556\n",
            "Iteration: 8000. Loss: 1.779670000076294. Accuracy: 62.11482322413234\n",
            "Iteration: 8500. Loss: 1.858557939529419. Accuracy: 61.56341226078495\n",
            "Iteration: 9000. Loss: 1.8366073369979858. Accuracy: 62.47161855335712\n",
            "Iteration: 9500. Loss: 1.8243459463119507. Accuracy: 62.11482322413234\n"
          ],
          "name": "stdout"
        }
      ]
    },
    {
      "cell_type": "code",
      "metadata": {
        "colab": {
          "base_uri": "https://localhost:8080/",
          "height": 316
        },
        "id": "uCMcUB9BZRMO",
        "outputId": "0a3115e9-f0d2-4e7c-fcc4-23558458b042"
      },
      "source": [
        "import matplotlib\n",
        "import matplotlib.pyplot as plt\n",
        "\n",
        "print (iteration_loss)\n",
        "plt.plot(iteration_loss)\n",
        "plt.ylabel('Cross Entropy Loss')\n",
        "plt.xlabel('Iteration (in every 500)')\n",
        "plt.show()"
      ],
      "execution_count": null,
      "outputs": [
        {
          "output_type": "stream",
          "text": [
            "[1.8505198955535889, 1.9314582347869873, 1.8860054016113281, 1.912601113319397, 1.7948334217071533, 1.8930346965789795, 1.8324543237686157, 1.8578836917877197, 1.8828725814819336, 1.8182437419891357, 1.817087173461914, 1.755921721458435, 1.8391952514648438, 1.7613853216171265, 1.8369462490081787, 1.779670000076294, 1.858557939529419, 1.8366073369979858, 1.8243459463119507]\n"
          ],
          "name": "stdout"
        },
        {
          "output_type": "display_data",
          "data": {
            "image/png": "[encoded data removed]",
            "text/plain": [
              "<Figure size 432x288 with 1 Axes>"
            ]
          },
          "metadata": {
            "tags": [],
            "needs_background": "light"
          }
        }
      ]
    },
    {
      "cell_type": "markdown",
      "metadata": {
        "id": "Hd90NMHjbzLD"
      },
      "source": [
        "#Settings 04:#"
      ]
    },
    {
      "cell_type": "code",
      "metadata": {
        "colab": {
          "base_uri": "https://localhost:8080/"
        },
        "id": "nVjjRje4W2xx",
        "outputId": "c3b61525-7734-4b9e-b59a-1868a1321992"
      },
      "source": [
        "import torch\n",
        "import torch.nn as nn\n",
        "import torchvision.transforms as transforms\n",
        "import torchvision.datasets as dsets\n",
        "\n",
        "# Hyperparameters\n",
        "batch_size = 100\n",
        "num_iters = 4000\n",
        "input_dim = 28*28 # num_features = 784\n",
        "num_hidden = 160\n",
        "output_dim = 10\n",
        "\n",
        "learning_rate = 0.001\n",
        "# Device\n",
        "device = torch.device(\"cuda:0\" if torch.cuda.is_available() else \"cpu\")\n",
        "\n",
        "\n",
        "train_dataset = list(zip(image_train, label_train))\n",
        "\n",
        "test_dataset = list(zip(image_test, label_test))\n",
        "\n",
        "\n",
        "num_epochs = num_iters / (len(train_dataset) / batch_size)\n",
        "num_epochs = int(num_epochs)\n",
        "\n",
        "train_loader = torch.utils.data.DataLoader(dataset=train_dataset, \n",
        "                                           batch_size=batch_size, \n",
        "                                           shuffle=True)  \n",
        "\n",
        "test_loader = torch.utils.data.DataLoader(dataset=test_dataset, \n",
        "                                          batch_size=batch_size, \n",
        "                                          shuffle=False) \n",
        "\n",
        "class NeuralNetworkModel(nn.Module):\n",
        "  def __init__(self, input_size, num_classes, num_hidden):\n",
        "        super().__init__()\n",
        "        ### 1st hidden layer: \n",
        "        self.linear_1 = nn.Linear(input_size, num_hidden)\n",
        "        ### Non-linearity in 1st hidden layer\n",
        "        self.leaky_relu_1 = nn.LeakyReLU()\n",
        "        \n",
        "        ### 2nd hidden layer: \n",
        "        self.linear_4 = nn.Linear(num_hidden, num_hidden)\n",
        "        ### Non-linearity in 2nd hidden layer\n",
        "        self.sigmoid = nn.Sigmoid()\n",
        "\n",
        "        ### Output layer: \n",
        "        self.linear_out = nn.Linear(num_hidden, num_classes)\n",
        "      \n",
        "\n",
        "  def forward(self, x):\n",
        "      ### 1st hidden layer\n",
        "      out  = self.linear_1(x)\n",
        "      ### Non-linearity in 1st hidden layer\n",
        "      out = self.leaky_relu_1(out)\n",
        "\n",
        "      ### 2nd hidden layer\n",
        "      out  = self.linear_4(out)\n",
        "      ### Non-linearity in 2nd hidden layer\n",
        "      out = self.sigmoid(out)\n",
        "      \n",
        "      probas  = self.linear_out(out)\n",
        "      return probas\n",
        "\n",
        "\n",
        "  \n",
        "\n",
        "model = NeuralNetworkModel(input_size = input_dim,\n",
        "                           num_classes = output_dim,\n",
        "                           num_hidden = num_hidden)\n",
        "# To enable GPU\n",
        "model.to(device)\n",
        "\n",
        "criterion = nn.CrossEntropyLoss()\n",
        "optimizer = torch.optim.Adam(model.parameters(), lr=learning_rate)\n",
        "\n",
        "iter = 0\n",
        "iteration_loss = []\n",
        "for epoch in range(num_epochs):\n",
        "    for i, (images, labels) in enumerate(train_loader):\n",
        "\n",
        "        images = images.view(-1, 28*28).to(device)\n",
        "        labels = labels.to(device)\n",
        "\n",
        "        # Clear gradients w.r.t. parameters\n",
        "        optimizer.zero_grad()\n",
        "\n",
        "        # Forward pass to get output/logits\n",
        "        outputs = model(images.float()) \n",
        "\n",
        "        # Calculate Loss: softmax --> cross entropy loss\n",
        "        loss = criterion(outputs, labels)\n",
        "\n",
        "        # Getting gradients w.r.t. parameters\n",
        "        loss.backward()\n",
        "\n",
        "        # Updating parameters\n",
        "        optimizer.step()\n",
        "\n",
        "        iter += 1\n",
        "\n",
        "        if iter % 500 == 0:\n",
        "            # Calculate Accuracy         \n",
        "            correct = 0\n",
        "            total = 0\n",
        "            # Iterate through test dataset\n",
        "            for images, labels in test_loader:\n",
        "               \n",
        "                images = images.view(-1, 28*28).to(device)\n",
        "\n",
        "                # Forward pass only to get logits/output\n",
        "                outputs = model(images.float())\n",
        "\n",
        "                # Get predictions from the maximum value\n",
        "                _, predicted = torch.max(outputs, 1)\n",
        "\n",
        "                # Total number of labels\n",
        "                total += labels.size(0)\n",
        "\n",
        "\n",
        "                # Total correct predictions\n",
        "                if torch.cuda.is_available():\n",
        "                    correct += (predicted.cpu() == labels.cpu()).sum() \n",
        "                else:\n",
        "                    correct += (predicted == labels).sum()\n",
        "\n",
        "            accuracy = 100 * correct.item() / total\n",
        "\n",
        "            # Print Loss\n",
        "            iteration_loss.append(loss.item())\n",
        "            print('Iteration: {}. Loss: {}. Accuracy: {}'.format(iter, loss.item(), accuracy))"
      ],
      "execution_count": null,
      "outputs": [
        {
          "output_type": "stream",
          "text": [
            "Iteration: 500. Loss: 0.6491038799285889. Accuracy: 60.55789815115148\n",
            "Iteration: 1000. Loss: 0.6354926228523254. Accuracy: 58.83879338306844\n",
            "Iteration: 1500. Loss: 0.6372236013412476. Accuracy: 61.466104443723644\n",
            "Iteration: 2000. Loss: 0.6268097162246704. Accuracy: 62.69867012650016\n",
            "Iteration: 2500. Loss: 0.6447554230690002. Accuracy: 62.95815763866364\n",
            "Iteration: 3000. Loss: 0.5652639269828796. Accuracy: 62.179695102173206\n",
            "Iteration: 3500. Loss: 0.5028883218765259. Accuracy: 62.76354200454103\n"
          ],
          "name": "stdout"
        }
      ]
    },
    {
      "cell_type": "code",
      "metadata": {
        "colab": {
          "base_uri": "https://localhost:8080/",
          "height": 296
        },
        "id": "34O2PffKX-Wl",
        "outputId": "c2afb58f-0266-4e4b-d546-496ce4e342f5"
      },
      "source": [
        "import matplotlib\n",
        "import matplotlib.pyplot as plt\n",
        "\n",
        "print (iteration_loss)\n",
        "plt.plot(iteration_loss)\n",
        "plt.ylabel('Cross Entropy Loss')\n",
        "plt.xlabel('Iteration (in every 500)')\n",
        "plt.show()"
      ],
      "execution_count": null,
      "outputs": [
        {
          "output_type": "stream",
          "text": [
            "[0.6491038799285889, 0.6354926228523254, 0.6372236013412476, 0.6268097162246704, 0.6447554230690002, 0.5652639269828796, 0.5028883218765259]\n"
          ],
          "name": "stdout"
        },
        {
          "output_type": "display_data",
          "data": {
            "image/png": "[encoded data removed]",
            "text/plain": [
              "<Figure size 432x288 with 1 Axes>"
            ]
          },
          "metadata": {
            "tags": [],
            "needs_background": "light"
          }
        }
      ]
    },
    {
      "cell_type": "markdown",
      "metadata": {
        "id": "CXPW2jCCL08D"
      },
      "source": [
        "# **Assignment #2**#\n",
        " **ID:16.02.04.070**\n",
        "  **Problem 1**\n",
        "  -I have tried many settings but the highest accuracy was between 60-63%. So, i changed the model, optimizers, and tried to bring variations in the settings. These are the best 4 results I could get from my different types of settigns.\n",
        "- **1st Settings:**\n",
        "First I have tried with 4 layers (tanh->leakyReLU->ReLU6->Sigmoid) withAdmax optimizer with 120 hidden layer dimensions.\n",
        "- **2nd Settings:**\n",
        "Tried this settings with one hidden layer of ReLU6.\n",
        "- **3rd Settings:**\n",
        "The model was like the first settings but here I varied the hidden layer dimension from 512->256->128->64.\n",
        "- **4th Settings:**\n",
        "Worked with two layer (leakyReLU->Sigmoid) with Adam optimizer.\n",
        "\n",
        "\n",
        "\n",
        "\n",
        "No.|batch_size | num_iters | learning rate|optimizer|hidden layer Dim|Accuracy\n",
        "---|---|---|---|---|---|---|\n",
        "1|64|10,000|0.001|Adagrad|120|62.504054492377556%\n",
        "2|80|6,000|0.005|Adamax|50|62.244566980214074%\n",
        "3|80|10,000|0.001|Adamax|(varied)|62.11482322413234%\n",
        "4|100|4000|0.001|Adam|160|62.76354200454103%\n"
      ]
    },
    {
      "cell_type": "code",
      "metadata": {
        "id": "CnprVEoyMnzG"
      },
      "source": [
        "root_path = '/content/gdrive/MyDrive/Colab Notebooks/pickle Files'"
      ],
      "execution_count": null,
      "outputs": []
    },
    {
      "cell_type": "code",
      "metadata": {
        "id": "W7bOdMvRMsou"
      },
      "source": [
        "save_model = True\n",
        "\n",
        "if save_model is True:\n",
        "    # Saves only parameters\n",
        "    # wights & biases\n",
        "    torch.save(model.state_dict(), root_path + 'ekushe_logisticR12.pkl') "
      ],
      "execution_count": null,
      "outputs": []
    },
    {
      "cell_type": "code",
      "metadata": {
        "colab": {
          "base_uri": "https://localhost:8080/"
        },
        "id": "caNfAXdYMvhq",
        "outputId": "2dbebee7-33ec-4841-b839-27c493b33705"
      },
      "source": [
        "load_model = True\n",
        "\n",
        "if load_model is True:\n",
        "    model.load_state_dict(torch.load(root_path + 'ekushe_logisticR12.pkl'))\n",
        "    print('Trained Model Loaded')"
      ],
      "execution_count": null,
      "outputs": [
        {
          "output_type": "stream",
          "text": [
            "Trained Model Loaded\n"
          ],
          "name": "stdout"
        }
      ]
    }
  ]
}