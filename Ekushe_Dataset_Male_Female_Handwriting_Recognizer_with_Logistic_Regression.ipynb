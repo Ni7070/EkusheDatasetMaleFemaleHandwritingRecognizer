{
  "nbformat": 4,
  "nbformat_minor": 0,
  "metadata": {
    "colab": {
      "name": "Ekushe Dataset Male Female Handwriting Recognizer with Logistic Regression.ipynb",
      "provenance": [],
      "collapsed_sections": [],
      "include_colab_link": true
    },
    "kernelspec": {
      "name": "python3",
      "display_name": "Python 3"
    },
    "accelerator": "GPU"
  },
  "cells": [
    {
      "cell_type": "markdown",
      "metadata": {
        "id": "view-in-github",
        "colab_type": "text"
      },
      "source": [
        "<a href=\"https://colab.research.google.com/github/Ni7070/EkusheDatasetMaleFemaleHandwritingRecognizer/blob/main/Ekushe_Dataset_Male_Female_Handwriting_Recognizer_with_Logistic_Regression.ipynb\" target=\"_parent\"><img src=\"https://colab.research.google.com/assets/colab-badge.svg\" alt=\"Open In Colab\"/></a>"
      ]
    },
    {
      "cell_type": "code",
      "metadata": {
        "id": "7enJszPDcSt1"
      },
      "source": [
        "import torch\n",
        "import torch.nn as nn\n",
        "import torch.nn.functional as F\n",
        "import torchvision\n",
        "from torchvision.transforms import transforms\n",
        "from torch.utils.data import DataLoader\n",
        "from torch.utils.data import Dataset\n",
        "\n",
        "\n",
        "import numpy as np\n",
        "import pandas as pd\n",
        "import matplotlib\n",
        "import matplotlib.pyplot as plt\n",
        "from PIL import Image\n",
        "\n",
        "import os\n",
        "from os import path\n",
        "import shutil\n",
        "import glob"
      ],
      "execution_count": null,
      "outputs": []
    },
    {
      "cell_type": "code",
      "metadata": {
        "colab": {
          "base_uri": "https://localhost:8080/"
        },
        "id": "-oCfKHr0cXGU",
        "outputId": "68261ba6-6dcb-4c4a-f3b2-045598bc4d00"
      },
      "source": [
        "#HYPERPERAMETERS\n",
        "batch_size = 100\n",
        "num_iters = 5000\n",
        "input_dim = 28*28 # num_features = 784\n",
        "output_dim = 2\n",
        "\n",
        "learning_rate = 0.005\n",
        "\n",
        "# Device\n",
        "device = torch.device(\"cuda:0\" if torch.cuda.is_available() else \"cpu\")\n",
        "print(device)"
      ],
      "execution_count": null,
      "outputs": [
        {
          "output_type": "stream",
          "text": [
            "cuda:0\n"
          ],
          "name": "stdout"
        }
      ]
    },
    {
      "cell_type": "code",
      "metadata": {
        "colab": {
          "base_uri": "https://localhost:8080/"
        },
        "id": "NZYEXVwOccVW",
        "outputId": "0a01105c-b103-44a3-a35c-03aadecb43e5"
      },
      "source": [
        "from google.colab import drive\n",
        "#drive.flush_and_unmount()\n",
        "drive.mount('/content/gdrive')"
      ],
      "execution_count": null,
      "outputs": [
        {
          "output_type": "stream",
          "text": [
            "Mounted at /content/gdrive\n"
          ],
          "name": "stdout"
        }
      ]
    },
    {
      "cell_type": "code",
      "metadata": {
        "id": "R45y_XuhchP2"
      },
      "source": [
        "#taking csv files\n",
        "female_digit = pd.read_csv(\"/content/gdrive/MyDrive/Colab Notebooks/ekushCSV/Female/femaleDigits.csv\")\n",
        "male_digit = pd.read_csv(\"/content/gdrive/MyDrive/Colab Notebooks/ekushCSV/Male/maleDigits.csv\")"
      ],
      "execution_count": null,
      "outputs": []
    },
    {
      "cell_type": "code",
      "metadata": {
        "id": "oWgjfiVFcu6l"
      },
      "source": [
        "#changing the label colums value for female 1, male 0\n",
        "female_digit['label'] = 1\n",
        "male_digit['label'] = 0"
      ],
      "execution_count": null,
      "outputs": []
    },
    {
      "cell_type": "code",
      "metadata": {
        "id": "7YdeH0rXc-di"
      },
      "source": [
        "#concating all labels \n",
        "female_label = female_digit['label']\n",
        "\n",
        "male_label = male_digit['label']\n",
        "\n",
        "labels = pd.concat([female_label, male_label],ignore_index=True)"
      ],
      "execution_count": null,
      "outputs": []
    },
    {
      "cell_type": "code",
      "metadata": {
        "id": "3xwL62AqdkOn"
      },
      "source": [
        "#concating all images\n",
        "images = pd.concat([female_digit, male_digit],ignore_index=True)\n",
        "images = images.drop(labels='label',axis=1)\n",
        "print(images.shape)\n",
        "print(images)\n",
        "print(labels)\n",
        "print(labels.shape)"
      ],
      "execution_count": null,
      "outputs": []
    },
    {
      "cell_type": "code",
      "metadata": {
        "id": "1onMFYtVeRN_"
      },
      "source": [
        "#normalizing and reshaping images\n",
        "images = images/255.0\n",
        "images = images.values.reshape(-1,28,28,1)"
      ],
      "execution_count": null,
      "outputs": []
    },
    {
      "cell_type": "code",
      "metadata": {
        "colab": {
          "base_uri": "https://localhost:8080/",
          "height": 299
        },
        "id": "0ZI1bEJMeZBo",
        "outputId": "703ef553-67b1-4a51-a657-0562963b2f84"
      },
      "source": [
        "#plotting a digit\n",
        "import matplotlib.pyplot as plt \n",
        "import numpy as np\n",
        "\n",
        "i = 30820\n",
        "show_img = images[i].reshape(28, 28)\n",
        "plt.imshow(show_img, cmap='gray')\n",
        "print(labels[i])\n",
        "if(labels[i]==1):\n",
        "  print(\"female writing\")\n",
        "else:\n",
        "  print(\"male writing\")\n"
      ],
      "execution_count": null,
      "outputs": [
        {
          "output_type": "stream",
          "text": [
            "0\n",
            "male writing\n"
          ],
          "name": "stdout"
        },
        {
          "output_type": "display_data",
          "data": {
            "image/png": "[encoded data removed]",
            "text/plain": [
              "<Figure size 432x288 with 1 Axes>"
            ]
          },
          "metadata": {
            "tags": [],
            "needs_background": "light"
          }
        }
      ]
    },
    {
      "cell_type": "code",
      "metadata": {
        "id": "1UcyGOUoe_5r"
      },
      "source": [
        "#split data into train:test = 90:10\n",
        "from sklearn.model_selection import train_test_split\n",
        "image_train, image_test, label_train, label_test = train_test_split(images, labels, test_size=0.1)\n",
        "print(image_test)"
      ],
      "execution_count": null,
      "outputs": []
    },
    {
      "cell_type": "code",
      "metadata": {
        "id": "R6Q2fTPlfT3S"
      },
      "source": [
        "#creating dataset\n",
        "train_dataset = list(zip(image_train, label_train))\n",
        "test_dataset = list(zip(image_test, label_test))"
      ],
      "execution_count": null,
      "outputs": []
    },
    {
      "cell_type": "code",
      "metadata": {
        "id": "VwXa4hy9fdbS"
      },
      "source": [
        "'''\n",
        "MAKING DATASET ITERABLE\n",
        "'''\n",
        "num_epochs = num_iters / (len(train_dataset) / batch_size)\n",
        "num_epochs = int(num_epochs)\n",
        "\n",
        "#using pytorch dataloader\n",
        "train_loader = torch.utils.data.DataLoader(dataset=train_dataset, \n",
        "                                           batch_size=batch_size, \n",
        "                                           shuffle=True)  \n",
        "\n",
        "test_loader = torch.utils.data.DataLoader(dataset=test_dataset, \n",
        "                                          batch_size=batch_size, \n",
        "                                          shuffle=False) "
      ],
      "execution_count": null,
      "outputs": []
    },
    {
      "cell_type": "code",
      "metadata": {
        "id": "RAuSWoTpfgYB"
      },
      "source": [
        "class LogisticRegressionModel(nn.Module):\n",
        "    def __init__(self, input_size, num_classes):\n",
        "        super().__init__()\n",
        "        self.linear = nn.Linear(input_size, num_classes)\n",
        "\n",
        "    def forward(self, x):\n",
        "        logits  = self.linear(x)\n",
        "        probas = F.sigmoid(logits)\n",
        "        return logits, probas"
      ],
      "execution_count": null,
      "outputs": []
    },
    {
      "cell_type": "code",
      "metadata": {
        "colab": {
          "base_uri": "https://localhost:8080/"
        },
        "id": "cIQeUZ7hfi9k",
        "outputId": "d003d5e1-c61f-411d-e521-8a7b15b4322e"
      },
      "source": [
        "'''\n",
        "INSTANTIATE MODEL CLASS\n",
        "'''\n",
        "model = LogisticRegressionModel(input_size=input_dim,\n",
        "                                num_classes=output_dim)\n",
        "# To enable GPU\n",
        "model.to(device)"
      ],
      "execution_count": null,
      "outputs": [
        {
          "output_type": "execute_result",
          "data": {
            "text/plain": [
              "LogisticRegressionModel(\n",
              "  (linear): Linear(in_features=784, out_features=2, bias=True)\n",
              ")"
            ]
          },
          "metadata": {
            "tags": []
          },
          "execution_count": 124
        }
      ]
    },
    {
      "cell_type": "code",
      "metadata": {
        "id": "Yxkmvdksfm89"
      },
      "source": [
        "# INSTANTIATE OPTIMIZER CLASS\n",
        "optimizer = torch.optim.SGD(model.parameters(), lr=learning_rate)"
      ],
      "execution_count": null,
      "outputs": []
    },
    {
      "cell_type": "markdown",
      "metadata": {
        "id": "0cBwlMPuRKT9"
      },
      "source": [
        "###Train 1#: Training: forward, loss, backward, step for batch =32, num_of_iter = 4000, learning rate 0.001"
      ]
    },
    {
      "cell_type": "code",
      "metadata": {
        "colab": {
          "base_uri": "https://localhost:8080/"
        },
        "id": "Y8vGsm0kfqxj",
        "outputId": "93d13cb0-0823-4b1c-8151-211a89222e15"
      },
      "source": [
        "'''\n",
        "TRAIN THE MODEL\n",
        "'''\n",
        "iteration_loss = []\n",
        "iter = 0\n",
        "for epoch in range(num_epochs):\n",
        "    for i, (images, labels) in enumerate(train_loader):\n",
        "\n",
        "        \n",
        "        images = images.view(-1, 28*28).to(device)\n",
        "        labels = labels.to(device)\n",
        "\n",
        "        # Clear gradients w.r.t. parameters\n",
        "        optimizer.zero_grad()\n",
        "\n",
        "        # Forward pass to get output/logits\n",
        "        logits, probas = model(images.float()) \n",
        "\n",
        "        # Calculate Loss: PyTorch implementation of CrossEntropyLoss works with logits, not probabilities\n",
        "        loss = F.cross_entropy(logits, labels)\n",
        "\n",
        "        # Getting gradients w.r.t. parameters\n",
        "        loss.backward()\n",
        "\n",
        "        # Updating parameters\n",
        "        optimizer.step()\n",
        "\n",
        "        iter += 1\n",
        "\n",
        "        if iter % 500 == 0:\n",
        "            # Calculate Accuracy         \n",
        "            correct = 0\n",
        "            total = 0\n",
        "            # Iterate through test dataset\n",
        "            for images, labels in test_loader:\n",
        "               \n",
        "                images = images.view(-1, 28*28).to(device)\n",
        "\n",
        "                # Forward pass only to get logits/output\n",
        "                logits, probas = model(images.float())\n",
        "\n",
        "                # Get predictions from the maximum value\n",
        "                _, predicted = torch.max(probas, 1)\n",
        "\n",
        "                # Total number of labels\n",
        "                total += labels.size(0)\n",
        "\n",
        "\n",
        "                # Total correct predictions\n",
        "                if torch.cuda.is_available():\n",
        "                    correct += (predicted.cpu() == labels.cpu()).sum() \n",
        "                else:\n",
        "                    correct += (predicted == labels).sum()\n",
        "\n",
        "            accuracy = 100 * correct.item() / total\n",
        "\n",
        "            # Print Loss\n",
        "            iteration_loss.append(loss.item())\n",
        "            print('Iteration: {}. Loss: {}. Accuracy: {}'.format(iter, loss.item(), accuracy))"
      ],
      "execution_count": null,
      "outputs": [
        {
          "output_type": "stream",
          "text": [
            "/usr/local/lib/python3.6/dist-packages/torch/nn/functional.py:1639: UserWarning: nn.functional.sigmoid is deprecated. Use torch.sigmoid instead.\n",
            "  warnings.warn(\"nn.functional.sigmoid is deprecated. Use torch.sigmoid instead.\")\n"
          ],
          "name": "stderr"
        },
        {
          "output_type": "stream",
          "text": [
            "Iteration: 500. Loss: 0.6719418168067932. Accuracy: 55.27084009082063\n",
            "Iteration: 1000. Loss: 0.6855542063713074. Accuracy: 57.44404800518975\n",
            "Iteration: 1500. Loss: 0.6963982582092285. Accuracy: 57.606227700291925\n",
            "Iteration: 2000. Loss: 0.6391500234603882. Accuracy: 58.027894907557574\n",
            "Iteration: 2500. Loss: 0.6634421348571777. Accuracy: 58.64417774894583\n",
            "Iteration: 3000. Loss: 0.6967478394508362. Accuracy: 58.384690236782355\n"
          ],
          "name": "stdout"
        }
      ]
    },
    {
      "cell_type": "code",
      "metadata": {
        "colab": {
          "base_uri": "https://localhost:8080/",
          "height": 296
        },
        "id": "Nos9-9oAlbZC",
        "outputId": "118d62a8-69a4-4a8c-d006-dd54ef413168"
      },
      "source": [
        "import matplotlib\n",
        "import matplotlib.pyplot as plt\n",
        "\n",
        "print (iteration_loss)\n",
        "plt.plot(iteration_loss)\n",
        "plt.ylabel('Cross Entropy Loss')\n",
        "plt.xlabel('Iteration (in every 500)')\n",
        "plt.show()"
      ],
      "execution_count": null,
      "outputs": [
        {
          "output_type": "stream",
          "text": [
            "[0.6719418168067932, 0.6855542063713074, 0.6963982582092285, 0.6391500234603882, 0.6634421348571777, 0.6967478394508362]\n"
          ],
          "name": "stdout"
        },
        {
          "output_type": "display_data",
          "data": {
            "image/png": "[encoded data removed]",
            "text/plain": [
              "<Figure size 432x288 with 1 Axes>"
            ]
          },
          "metadata": {
            "tags": [],
            "needs_background": "light"
          }
        }
      ]
    },
    {
      "cell_type": "markdown",
      "metadata": {
        "id": "S5rNjSWiRUTM"
      },
      "source": [
        "###Train 2#: Training: forward, loss, backward, step for batch =50, num_of_iter = 4000, learning rate 0.001"
      ]
    },
    {
      "cell_type": "code",
      "metadata": {
        "colab": {
          "base_uri": "https://localhost:8080/"
        },
        "id": "VOc8_WFRRTTy",
        "outputId": "49f299e9-c7bf-4169-e420-60487d52f9bf"
      },
      "source": [
        "'''\n",
        "TRAIN THE MODEL\n",
        "'''\n",
        "iteration_loss = []\n",
        "iter = 0\n",
        "for epoch in range(num_epochs):\n",
        "    for i, (images, labels) in enumerate(train_loader):\n",
        "\n",
        "        \n",
        "        images = images.view(-1, 28*28).to(device)\n",
        "        labels = labels.to(device)\n",
        "\n",
        "        # Clear gradients w.r.t. parameters\n",
        "        optimizer.zero_grad()\n",
        "\n",
        "        # Forward pass to get output/logits\n",
        "        logits, probas = model(images.float()) \n",
        "\n",
        "        # Calculate Loss: PyTorch implementation of CrossEntropyLoss works with logits, not probabilities\n",
        "        loss = F.cross_entropy(logits, labels)\n",
        "\n",
        "        # Getting gradients w.r.t. parameters\n",
        "        loss.backward()\n",
        "\n",
        "        # Updating parameters\n",
        "        optimizer.step()\n",
        "\n",
        "        iter += 1\n",
        "\n",
        "        if iter % 500 == 0:\n",
        "            # Calculate Accuracy         \n",
        "            correct = 0\n",
        "            total = 0\n",
        "            # Iterate through test dataset\n",
        "            for images, labels in test_loader:\n",
        "               \n",
        "                images = images.view(-1, 28*28).to(device)\n",
        "\n",
        "                # Forward pass only to get logits/output\n",
        "                logits, probas = model(images.float())\n",
        "\n",
        "                # Get predictions from the maximum value\n",
        "                _, predicted = torch.max(probas, 1)\n",
        "\n",
        "                # Total number of labels\n",
        "                total += labels.size(0)\n",
        "\n",
        "\n",
        "                # Total correct predictions\n",
        "                if torch.cuda.is_available():\n",
        "                    correct += (predicted.cpu() == labels.cpu()).sum() \n",
        "                else:\n",
        "                    correct += (predicted == labels).sum()\n",
        "\n",
        "            accuracy = 100 * correct.item() / total\n",
        "\n",
        "            # Print Loss\n",
        "            iteration_loss.append(loss.item())\n",
        "            print('Iteration: {}. Loss: {}. Accuracy: {}'.format(iter, loss.item(), accuracy))"
      ],
      "execution_count": null,
      "outputs": [
        {
          "output_type": "stream",
          "text": [
            "/usr/local/lib/python3.6/dist-packages/torch/nn/functional.py:1639: UserWarning: nn.functional.sigmoid is deprecated. Use torch.sigmoid instead.\n",
            "  warnings.warn(\"nn.functional.sigmoid is deprecated. Use torch.sigmoid instead.\")\n"
          ],
          "name": "stderr"
        },
        {
          "output_type": "stream",
          "text": [
            "Iteration: 500. Loss: 0.7193924784660339. Accuracy: 49.10801167693805\n",
            "Iteration: 1000. Loss: 0.7268189191818237. Accuracy: 49.10801167693805\n",
            "Iteration: 1500. Loss: 0.7104661464691162. Accuracy: 49.10801167693805\n",
            "Iteration: 2000. Loss: 0.7045239806175232. Accuracy: 49.10801167693805\n",
            "Iteration: 2500. Loss: 0.6911159753799438. Accuracy: 49.10801167693805\n",
            "Iteration: 3000. Loss: 0.7310390472412109. Accuracy: 49.10801167693805\n",
            "Iteration: 3500. Loss: 0.7075114250183105. Accuracy: 49.10801167693805\n"
          ],
          "name": "stdout"
        }
      ]
    },
    {
      "cell_type": "code",
      "metadata": {
        "colab": {
          "base_uri": "https://localhost:8080/",
          "height": 296
        },
        "id": "DKmkwcysR-ZG",
        "outputId": "ea02704c-1f13-46d4-f314-98e41c746315"
      },
      "source": [
        "import matplotlib\n",
        "import matplotlib.pyplot as plt\n",
        "\n",
        "print (iteration_loss)\n",
        "plt.plot(iteration_loss)\n",
        "plt.ylabel('Cross Entropy Loss')\n",
        "plt.xlabel('Iteration (in every 500)')\n",
        "plt.show()"
      ],
      "execution_count": null,
      "outputs": [
        {
          "output_type": "stream",
          "text": [
            "[0.739123523235321, 0.6843844652175903, 0.7447174191474915, 0.6825746893882751, 0.7113325595855713, 0.7411127686500549, 0.7165728807449341]\n"
          ],
          "name": "stdout"
        },
        {
          "output_type": "display_data",
          "data": {
            "image/png": "[encoded data removed]",
            "text/plain": [
              "<Figure size 432x288 with 1 Axes>"
            ]
          },
          "metadata": {
            "tags": [],
            "needs_background": "light"
          }
        }
      ]
    },
    {
      "cell_type": "markdown",
      "metadata": {
        "id": "IAxtvi_eS9WS"
      },
      "source": [
        "###Train 3#: Training: forward, loss, backward, step for batch =80, num_of_iter = 4000, learning rate 0.001"
      ]
    },
    {
      "cell_type": "code",
      "metadata": {
        "colab": {
          "base_uri": "https://localhost:8080/"
        },
        "id": "nJI667MCTEnm",
        "outputId": "1c8c2cf5-03e1-4949-b64e-c12ad63b5753"
      },
      "source": [
        "'''\n",
        "TRAIN THE MODEL\n",
        "'''\n",
        "iteration_loss = []\n",
        "iter = 0\n",
        "for epoch in range(num_epochs):\n",
        "    for i, (images, labels) in enumerate(train_loader):\n",
        "\n",
        "        \n",
        "        images = images.view(-1, 28*28).to(device)\n",
        "        labels = labels.to(device)\n",
        "\n",
        "        # Clear gradients w.r.t. parameters\n",
        "        optimizer.zero_grad()\n",
        "\n",
        "        # Forward pass to get output/logits\n",
        "        logits, probas = model(images.float()) \n",
        "\n",
        "        # Calculate Loss: PyTorch implementation of CrossEntropyLoss works with logits, not probabilities\n",
        "        loss = F.cross_entropy(logits, labels)\n",
        "\n",
        "        # Getting gradients w.r.t. parameters\n",
        "        loss.backward()\n",
        "\n",
        "        # Updating parameters\n",
        "        optimizer.step()\n",
        "\n",
        "        iter += 1\n",
        "\n",
        "        if iter % 500 == 0:\n",
        "            # Calculate Accuracy         \n",
        "            correct = 0\n",
        "            total = 0\n",
        "            # Iterate through test dataset\n",
        "            for images, labels in test_loader:\n",
        "               \n",
        "                images = images.view(-1, 28*28).to(device)\n",
        "\n",
        "                # Forward pass only to get logits/output\n",
        "                logits, probas = model(images.float())\n",
        "\n",
        "                # Get predictions from the maximum value\n",
        "                _, predicted = torch.max(probas, 1)\n",
        "\n",
        "                # Total number of labels\n",
        "                total += labels.size(0)\n",
        "\n",
        "\n",
        "                # Total correct predictions\n",
        "                if torch.cuda.is_available():\n",
        "                    correct += (predicted.cpu() == labels.cpu()).sum() \n",
        "                else:\n",
        "                    correct += (predicted == labels).sum()\n",
        "\n",
        "            accuracy = 100 * correct.item() / total\n",
        "\n",
        "            # Print Loss\n",
        "            iteration_loss.append(loss.item())\n",
        "            print('Iteration: {}. Loss: {}. Accuracy: {}'.format(iter, loss.item(), accuracy))"
      ],
      "execution_count": null,
      "outputs": [
        {
          "output_type": "stream",
          "text": [
            "/usr/local/lib/python3.6/dist-packages/torch/nn/functional.py:1639: UserWarning: nn.functional.sigmoid is deprecated. Use torch.sigmoid instead.\n",
            "  warnings.warn(\"nn.functional.sigmoid is deprecated. Use torch.sigmoid instead.\")\n"
          ],
          "name": "stderr"
        },
        {
          "output_type": "stream",
          "text": [
            "Iteration: 500. Loss: 0.6757668256759644. Accuracy: 55.2384041518002\n",
            "Iteration: 1000. Loss: 0.699467658996582. Accuracy: 57.41161206616932\n",
            "Iteration: 1500. Loss: 0.6811739206314087. Accuracy: 56.95750891988323\n",
            "Iteration: 2000. Loss: 0.6570854187011719. Accuracy: 58.319818358741486\n",
            "Iteration: 2500. Loss: 0.6848873496055603. Accuracy: 58.44956211482322\n",
            "Iteration: 3000. Loss: 0.6619780659675598. Accuracy: 58.64417774894583\n",
            "Iteration: 3500. Loss: 0.645311713218689. Accuracy: 58.77392150502757\n"
          ],
          "name": "stdout"
        }
      ]
    },
    {
      "cell_type": "code",
      "metadata": {
        "colab": {
          "base_uri": "https://localhost:8080/",
          "height": 296
        },
        "id": "m1fk3dbTTEqd",
        "outputId": "3ba4c87b-5b90-4a11-a81a-5707e788e996"
      },
      "source": [
        "import matplotlib\n",
        "import matplotlib.pyplot as plt\n",
        "\n",
        "print (iteration_loss)\n",
        "plt.plot(iteration_loss)\n",
        "plt.ylabel('Cross Entropy Loss')\n",
        "plt.xlabel('Iteration (in every 500)')\n",
        "plt.show()"
      ],
      "execution_count": null,
      "outputs": [
        {
          "output_type": "stream",
          "text": [
            "[0.6757668256759644, 0.699467658996582, 0.6811739206314087, 0.6570854187011719, 0.6848873496055603, 0.6619780659675598, 0.645311713218689]\n"
          ],
          "name": "stdout"
        },
        {
          "output_type": "display_data",
          "data": {
            "image/png": "[encoded data removed]",
            "text/plain": [
              "<Figure size 432x288 with 1 Axes>"
            ]
          },
          "metadata": {
            "tags": [],
            "needs_background": "light"
          }
        }
      ]
    },
    {
      "cell_type": "markdown",
      "metadata": {
        "id": "IopFrNJwUxaC"
      },
      "source": [
        "###Train 4#: Training: forward, loss, backward, step for batch = 80, num_of_iter = 3000, learning rate 0.001"
      ]
    },
    {
      "cell_type": "code",
      "metadata": {
        "colab": {
          "base_uri": "https://localhost:8080/"
        },
        "id": "pJLeO-MYUvSL",
        "outputId": "e8525887-f4ff-4e51-f50b-cfc3408221e6"
      },
      "source": [
        "'''\n",
        "TRAIN THE MODEL\n",
        "'''\n",
        "iteration_loss = []\n",
        "iter = 0\n",
        "for epoch in range(num_epochs):\n",
        "    for i, (images, labels) in enumerate(train_loader):\n",
        "\n",
        "        \n",
        "        images = images.view(-1, 28*28).to(device)\n",
        "        labels = labels.to(device)\n",
        "\n",
        "        # Clear gradients w.r.t. parameters\n",
        "        optimizer.zero_grad()\n",
        "\n",
        "        # Forward pass to get output/logits\n",
        "        logits, probas = model(images.float()) \n",
        "\n",
        "        # Calculate Loss: PyTorch implementation of CrossEntropyLoss works with logits, not probabilities\n",
        "        loss = F.cross_entropy(logits, labels)\n",
        "\n",
        "        # Getting gradients w.r.t. parameters\n",
        "        loss.backward()\n",
        "\n",
        "        # Updating parameters\n",
        "        optimizer.step()\n",
        "\n",
        "        iter += 1\n",
        "\n",
        "        if iter % 500 == 0:\n",
        "            # Calculate Accuracy         \n",
        "            correct = 0\n",
        "            total = 0\n",
        "            # Iterate through test dataset\n",
        "            for images, labels in test_loader:\n",
        "               \n",
        "                images = images.view(-1, 28*28).to(device)\n",
        "\n",
        "                # Forward pass only to get logits/output\n",
        "                logits, probas = model(images.float())\n",
        "\n",
        "                # Get predictions from the maximum value\n",
        "                _, predicted = torch.max(probas, 1)\n",
        "\n",
        "                # Total number of labels\n",
        "                total += labels.size(0)\n",
        "\n",
        "\n",
        "                # Total correct predictions\n",
        "                if torch.cuda.is_available():\n",
        "                    correct += (predicted.cpu() == labels.cpu()).sum() \n",
        "                else:\n",
        "                    correct += (predicted == labels).sum()\n",
        "\n",
        "            accuracy = 100 * correct.item() / total\n",
        "\n",
        "            # Print Loss\n",
        "            iteration_loss.append(loss.item())\n",
        "            print('Iteration: {}. Loss: {}. Accuracy: {}'.format(iter, loss.item(), accuracy))"
      ],
      "execution_count": null,
      "outputs": [
        {
          "output_type": "stream",
          "text": [
            "/usr/local/lib/python3.6/dist-packages/torch/nn/functional.py:1639: UserWarning: nn.functional.sigmoid is deprecated. Use torch.sigmoid instead.\n",
            "  warnings.warn(\"nn.functional.sigmoid is deprecated. Use torch.sigmoid instead.\")\n"
          ],
          "name": "stderr"
        },
        {
          "output_type": "stream",
          "text": [
            "Iteration: 500. Loss: 0.6898146271705627. Accuracy: 51.83263055465456\n",
            "Iteration: 1000. Loss: 0.6952906847000122. Accuracy: 55.2384041518002\n",
            "Iteration: 1500. Loss: 0.691831648349762. Accuracy: 56.73045734674019\n",
            "Iteration: 2000. Loss: 0.6997753977775574. Accuracy: 57.216996432046706\n",
            "Iteration: 2500. Loss: 0.668441891670227. Accuracy: 57.80084333441453\n",
            "Iteration: 3000. Loss: 0.6803122758865356. Accuracy: 58.12520272461888\n",
            "Iteration: 3500. Loss: 0.6565977334976196. Accuracy: 57.83327927343497\n",
            "Iteration: 4000. Loss: 0.6816076040267944. Accuracy: 58.28738241972105\n",
            "Iteration: 4500. Loss: 0.679470419883728. Accuracy: 58.35225429776192\n"
          ],
          "name": "stdout"
        }
      ]
    },
    {
      "cell_type": "code",
      "metadata": {
        "colab": {
          "base_uri": "https://localhost:8080/",
          "height": 316
        },
        "id": "90emn_ReUm1F",
        "outputId": "53e82ed5-8b4e-4382-ad56-3cb16edf5393"
      },
      "source": [
        "import matplotlib\n",
        "import matplotlib.pyplot as plt\n",
        "\n",
        "print (iteration_loss)\n",
        "plt.plot(iteration_loss)\n",
        "plt.ylabel('Cross Entropy Loss')\n",
        "plt.xlabel('Iteration (in every 500)')\n",
        "plt.show()"
      ],
      "execution_count": null,
      "outputs": [
        {
          "output_type": "stream",
          "text": [
            "[0.6898146271705627, 0.6952906847000122, 0.691831648349762, 0.6997753977775574, 0.668441891670227, 0.6803122758865356, 0.6565977334976196, 0.6816076040267944, 0.679470419883728]\n"
          ],
          "name": "stdout"
        },
        {
          "output_type": "display_data",
          "data": {
            "image/png": "[encoded data removed]",
            "text/plain": [
              "<Figure size 432x288 with 1 Axes>"
            ]
          },
          "metadata": {
            "tags": [],
            "needs_background": "light"
          }
        }
      ]
    },
    {
      "cell_type": "markdown",
      "metadata": {
        "id": "XwuKufsSWe_J"
      },
      "source": [
        "###Train 5#: Training: forward, loss, backward, step for batch = 100, num_of_iter = 4000, learning rate 0.01"
      ]
    },
    {
      "cell_type": "code",
      "metadata": {
        "colab": {
          "base_uri": "https://localhost:8080/"
        },
        "id": "UH8npIUtWmoT",
        "outputId": "d8683f94-3086-44f5-8907-bfbf3d9dd136"
      },
      "source": [
        "'''\n",
        "TRAIN THE MODEL\n",
        "'''\n",
        "iteration_loss = []\n",
        "iter = 0\n",
        "for epoch in range(num_epochs):\n",
        "    for i, (images, labels) in enumerate(train_loader):\n",
        "\n",
        "        \n",
        "        images = images.view(-1, 28*28).to(device)\n",
        "        labels = labels.to(device)\n",
        "\n",
        "        # Clear gradients w.r.t. parameters\n",
        "        optimizer.zero_grad()\n",
        "\n",
        "        # Forward pass to get output/logits\n",
        "        logits, probas = model(images.float()) \n",
        "\n",
        "        # Calculate Loss: PyTorch implementation of CrossEntropyLoss works with logits, not probabilities\n",
        "        loss = F.cross_entropy(logits, labels)\n",
        "\n",
        "        # Getting gradients w.r.t. parameters\n",
        "        loss.backward()\n",
        "\n",
        "        # Updating parameters\n",
        "        optimizer.step()\n",
        "\n",
        "        iter += 1\n",
        "\n",
        "        if iter % 500 == 0:\n",
        "            # Calculate Accuracy         \n",
        "            correct = 0\n",
        "            total = 0\n",
        "            # Iterate through test dataset\n",
        "            for images, labels in test_loader:\n",
        "               \n",
        "                images = images.view(-1, 28*28).to(device)\n",
        "\n",
        "                # Forward pass only to get logits/output\n",
        "                logits, probas = model(images.float())\n",
        "\n",
        "                # Get predictions from the maximum value\n",
        "                _, predicted = torch.max(probas, 1)\n",
        "\n",
        "                # Total number of labels\n",
        "                total += labels.size(0)\n",
        "\n",
        "\n",
        "                # Total correct predictions\n",
        "                if torch.cuda.is_available():\n",
        "                    correct += (predicted.cpu() == labels.cpu()).sum() \n",
        "                else:\n",
        "                    correct += (predicted == labels).sum()\n",
        "\n",
        "            accuracy = 100 * correct.item() / total\n",
        "\n",
        "            # Print Loss\n",
        "            iteration_loss.append(loss.item())\n",
        "            print('Iteration: {}. Loss: {}. Accuracy: {}'.format(iter, loss.item(), accuracy))"
      ],
      "execution_count": null,
      "outputs": [
        {
          "output_type": "stream",
          "text": [
            "/usr/local/lib/python3.6/dist-packages/torch/nn/functional.py:1639: UserWarning: nn.functional.sigmoid is deprecated. Use torch.sigmoid instead.\n",
            "  warnings.warn(\"nn.functional.sigmoid is deprecated. Use torch.sigmoid instead.\")\n"
          ],
          "name": "stderr"
        },
        {
          "output_type": "stream",
          "text": [
            "Iteration: 500. Loss: 0.6401136517524719. Accuracy: 58.93610120012974\n",
            "Iteration: 1000. Loss: 0.6400499939918518. Accuracy: 59.065844956211485\n",
            "Iteration: 1500. Loss: 0.6512302160263062. Accuracy: 58.25494648070062\n",
            "Iteration: 2000. Loss: 0.6618243455886841. Accuracy: 58.09276678559844\n",
            "Iteration: 2500. Loss: 0.6614637970924377. Accuracy: 59.29289652935452\n",
            "Iteration: 3000. Loss: 0.6633780598640442. Accuracy: 58.6117418099254\n",
            "Iteration: 3500. Loss: 0.6786178350448608. Accuracy: 58.806357444048004\n"
          ],
          "name": "stdout"
        }
      ]
    },
    {
      "cell_type": "code",
      "metadata": {
        "colab": {
          "base_uri": "https://localhost:8080/",
          "height": 298
        },
        "id": "T_Bq00qLWmrZ",
        "outputId": "d1bea744-67d4-4a09-ae79-2c0f920994d4"
      },
      "source": [
        "import matplotlib\n",
        "import matplotlib.pyplot as plt\n",
        "\n",
        "print (iteration_loss)\n",
        "plt.plot(iteration_loss)\n",
        "plt.ylabel('Cross Entropy Loss')\n",
        "plt.xlabel('Iteration (in every 500)')\n",
        "plt.show()"
      ],
      "execution_count": null,
      "outputs": [
        {
          "output_type": "stream",
          "text": [
            "[0.6401136517524719, 0.6400499939918518, 0.6512302160263062, 0.6618243455886841, 0.6614637970924377, 0.6633780598640442, 0.6786178350448608]\n"
          ],
          "name": "stdout"
        },
        {
          "output_type": "display_data",
          "data": {
            "image/png": "[encoded data removed]",
            "text/plain": [
              "<Figure size 432x288 with 1 Axes>"
            ]
          },
          "metadata": {
            "tags": [],
            "needs_background": "light"
          }
        }
      ]
    },
    {
      "cell_type": "markdown",
      "metadata": {
        "id": "HO5h_q9HXyKo"
      },
      "source": [
        "###Train 6#: Training: forward, loss, backward, step for batch = 100, num_of_iter = 5000, learning rate 0.005"
      ]
    },
    {
      "cell_type": "code",
      "metadata": {
        "colab": {
          "base_uri": "https://localhost:8080/"
        },
        "id": "e-IZlKykXykh",
        "outputId": "daef0d2f-584a-454b-b22e-194613dc4dca"
      },
      "source": [
        "'''\n",
        "TRAIN THE MODEL\n",
        "'''\n",
        "iteration_loss = []\n",
        "iter = 0\n",
        "for epoch in range(num_epochs):\n",
        "    for i, (images, labels) in enumerate(train_loader):\n",
        "\n",
        "        \n",
        "        images = images.view(-1, 28*28).to(device)\n",
        "        labels = labels.to(device)\n",
        "\n",
        "        # Clear gradients w.r.t. parameters\n",
        "        optimizer.zero_grad()\n",
        "\n",
        "        # Forward pass to get output/logits\n",
        "        logits, probas = model(images.float()) \n",
        "\n",
        "        # Calculate Loss: PyTorch implementation of CrossEntropyLoss works with logits, not probabilities\n",
        "        loss = F.cross_entropy(logits, labels)\n",
        "\n",
        "        # Getting gradients w.r.t. parameters\n",
        "        loss.backward()\n",
        "\n",
        "        # Updating parameters\n",
        "        optimizer.step()\n",
        "\n",
        "        iter += 1\n",
        "\n",
        "        if iter % 500 == 0:\n",
        "            # Calculate Accuracy         \n",
        "            correct = 0\n",
        "            total = 0\n",
        "            # Iterate through test dataset\n",
        "            for images, labels in test_loader:\n",
        "               \n",
        "                images = images.view(-1, 28*28).to(device)\n",
        "\n",
        "                # Forward pass only to get logits/output\n",
        "                logits, probas = model(images.float())\n",
        "\n",
        "                # Get predictions from the maximum value\n",
        "                _, predicted = torch.max(probas, 1)\n",
        "\n",
        "                # Total number of labels\n",
        "                total += labels.size(0)\n",
        "\n",
        "\n",
        "                # Total correct predictions\n",
        "                if torch.cuda.is_available():\n",
        "                    correct += (predicted.cpu() == labels.cpu()).sum() \n",
        "                else:\n",
        "                    correct += (predicted == labels).sum()\n",
        "\n",
        "            accuracy = 100 * correct.item() / total\n",
        "\n",
        "            # Print Loss\n",
        "            iteration_loss.append(loss.item())\n",
        "            print('Iteration: {}. Loss: {}. Accuracy: {}'.format(iter, loss.item(), accuracy))"
      ],
      "execution_count": null,
      "outputs": [
        {
          "output_type": "stream",
          "text": [
            "/usr/local/lib/python3.6/dist-packages/torch/nn/functional.py:1639: UserWarning: nn.functional.sigmoid is deprecated. Use torch.sigmoid instead.\n",
            "  warnings.warn(\"nn.functional.sigmoid is deprecated. Use torch.sigmoid instead.\")\n"
          ],
          "name": "stderr"
        },
        {
          "output_type": "stream",
          "text": [
            "Iteration: 500. Loss: 0.6706626415252686. Accuracy: 58.51443399286409\n",
            "Iteration: 1000. Loss: 0.6880522966384888. Accuracy: 59.26046059033409\n",
            "Iteration: 1500. Loss: 0.7010437250137329. Accuracy: 59.39020434641583\n",
            "Iteration: 2000. Loss: 0.6607619524002075. Accuracy: 58.64417774894583\n",
            "Iteration: 2500. Loss: 0.6753867864608765. Accuracy: 59.22802465131365\n",
            "Iteration: 3000. Loss: 0.6616194248199463. Accuracy: 59.098280895231916\n",
            "Iteration: 3500. Loss: 0.6608920097351074. Accuracy: 58.48199805384366\n",
            "Iteration: 4000. Loss: 0.6451835036277771. Accuracy: 59.19558871229322\n",
            "Iteration: 4500. Loss: 0.6356450915336609. Accuracy: 58.709049626986705\n",
            "Iteration: 5000. Loss: 0.6553906202316284. Accuracy: 59.3577684073954\n"
          ],
          "name": "stdout"
        }
      ]
    },
    {
      "cell_type": "code",
      "metadata": {
        "colab": {
          "base_uri": "https://localhost:8080/",
          "height": 316
        },
        "id": "CdsiShYIXynT",
        "outputId": "abc2eeae-8532-4c89-a321-2b4b0ff0362e"
      },
      "source": [
        "import matplotlib\n",
        "import matplotlib.pyplot as plt\n",
        "\n",
        "print (iteration_loss)\n",
        "plt.plot(iteration_loss)\n",
        "plt.ylabel('Cross Entropy Loss')\n",
        "plt.xlabel('Iteration (in every 500)')\n",
        "plt.show()"
      ],
      "execution_count": null,
      "outputs": [
        {
          "output_type": "stream",
          "text": [
            "[0.6706626415252686, 0.6880522966384888, 0.7010437250137329, 0.6607619524002075, 0.6753867864608765, 0.6616194248199463, 0.6608920097351074, 0.6451835036277771, 0.6356450915336609, 0.6553906202316284]\n"
          ],
          "name": "stdout"
        },
        {
          "output_type": "display_data",
          "data": {
            "image/png": "[encoded data removed]",
            "text/plain": [
              "<Figure size 432x288 with 1 Axes>"
            ]
          },
          "metadata": {
            "tags": [],
            "needs_background": "light"
          }
        }
      ]
    },
    {
      "cell_type": "markdown",
      "metadata": {
        "id": "vlwHS-LOdErR"
      },
      "source": [
        "###Train 7#: Training: forward, loss, backward, step for batch = 100, num_of_iter = 5000, learning rate 0.005 for Adam optimizer"
      ]
    },
    {
      "cell_type": "code",
      "metadata": {
        "id": "ejAm2oLxfNJJ"
      },
      "source": [
        "optimizer = torch.optim.Adam(model.parameters(), lr=learning_rate)"
      ],
      "execution_count": null,
      "outputs": []
    },
    {
      "cell_type": "code",
      "metadata": {
        "colab": {
          "base_uri": "https://localhost:8080/"
        },
        "id": "oUoFvS_JfiPj",
        "outputId": "a7b49a3d-1fff-4613-bf0c-f87ef74794d4"
      },
      "source": [
        "'''\n",
        "TRAIN THE MODEL\n",
        "'''\n",
        "iteration_loss = []\n",
        "iter = 0\n",
        "for epoch in range(num_epochs):\n",
        "    for i, (images, labels) in enumerate(train_loader):\n",
        "\n",
        "        \n",
        "        images = images.view(-1, 28*28).to(device)\n",
        "        labels = labels.to(device)\n",
        "\n",
        "        # Clear gradients w.r.t. parameters\n",
        "        optimizer.zero_grad()\n",
        "\n",
        "        # Forward pass to get output/logits\n",
        "        logits, probas = model(images.float()) \n",
        "\n",
        "        # Calculate Loss: PyTorch implementation of CrossEntropyLoss works with logits, not probabilities\n",
        "        loss = F.cross_entropy(logits, labels)\n",
        "\n",
        "        # Getting gradients w.r.t. parameters\n",
        "        loss.backward()\n",
        "\n",
        "        # Updating parameters\n",
        "        optimizer.step()\n",
        "\n",
        "        iter += 1\n",
        "\n",
        "        if iter % 500 == 0:\n",
        "            # Calculate Accuracy         \n",
        "            correct = 0\n",
        "            total = 0\n",
        "            # Iterate through test dataset\n",
        "            for images, labels in test_loader:\n",
        "               \n",
        "                images = images.view(-1, 28*28).to(device)\n",
        "\n",
        "                # Forward pass only to get logits/output\n",
        "                logits, probas = model(images.float())\n",
        "\n",
        "                # Get predictions from the maximum value\n",
        "                _, predicted = torch.max(probas, 1)\n",
        "\n",
        "                # Total number of labels\n",
        "                total += labels.size(0)\n",
        "\n",
        "\n",
        "                # Total correct predictions\n",
        "                if torch.cuda.is_available():\n",
        "                    correct += (predicted.cpu() == labels.cpu()).sum() \n",
        "                else:\n",
        "                    correct += (predicted == labels).sum()\n",
        "\n",
        "            accuracy = 100 * correct.item() / total\n",
        "\n",
        "            # Print Loss\n",
        "            iteration_loss.append(loss.item())\n",
        "            print('Iteration: {}. Loss: {}. Accuracy: {}'.format(iter, loss.item(), accuracy))"
      ],
      "execution_count": null,
      "outputs": [
        {
          "output_type": "stream",
          "text": [
            "/usr/local/lib/python3.6/dist-packages/torch/nn/functional.py:1639: UserWarning: nn.functional.sigmoid is deprecated. Use torch.sigmoid instead.\n",
            "  warnings.warn(\"nn.functional.sigmoid is deprecated. Use torch.sigmoid instead.\")\n"
          ],
          "name": "stderr"
        },
        {
          "output_type": "stream",
          "text": [
            "Iteration: 500. Loss: 0.7241024971008301. Accuracy: 57.83327927343497\n",
            "Iteration: 1000. Loss: 0.7308651208877563. Accuracy: 57.50891988323062\n",
            "Iteration: 1500. Loss: 0.7707011699676514. Accuracy: 54.84917288355498\n",
            "Iteration: 2000. Loss: 0.6718245148658752. Accuracy: 57.281868310087575\n",
            "Iteration: 2500. Loss: 0.6876416802406311. Accuracy: 56.925072980862794\n",
            "Iteration: 3000. Loss: 0.654747724533081. Accuracy: 55.20596821277976\n",
            "Iteration: 3500. Loss: 0.5885314345359802. Accuracy: 55.98443074927019\n",
            "Iteration: 4000. Loss: 0.6792622208595276. Accuracy: 57.11968861498541\n",
            "Iteration: 4500. Loss: 0.5892549753189087. Accuracy: 57.89815115147584\n",
            "Iteration: 5000. Loss: 0.6062642931938171. Accuracy: 58.15763866363931\n"
          ],
          "name": "stdout"
        }
      ]
    },
    {
      "cell_type": "code",
      "metadata": {
        "colab": {
          "base_uri": "https://localhost:8080/",
          "height": 316
        },
        "id": "eDC5bZkRfodk",
        "outputId": "e934e2e4-d465-4d84-d44a-6797358bed63"
      },
      "source": [
        "import matplotlib\n",
        "import matplotlib.pyplot as plt\n",
        "\n",
        "print (iteration_loss)\n",
        "plt.plot(iteration_loss)\n",
        "plt.ylabel('Cross Entropy Loss')\n",
        "plt.xlabel('Iteration (in every 500)')\n",
        "plt.show()"
      ],
      "execution_count": null,
      "outputs": [
        {
          "output_type": "stream",
          "text": [
            "[0.7241024971008301, 0.7308651208877563, 0.7707011699676514, 0.6718245148658752, 0.6876416802406311, 0.654747724533081, 0.5885314345359802, 0.6792622208595276, 0.5892549753189087, 0.6062642931938171]\n"
          ],
          "name": "stdout"
        },
        {
          "output_type": "display_data",
          "data": {
            "image/png": "[encoded data removed]",
            "text/plain": [
              "<Figure size 432x288 with 1 Axes>"
            ]
          },
          "metadata": {
            "tags": [],
            "needs_background": "light"
          }
        }
      ]
    },
    {
      "cell_type": "markdown",
      "metadata": {
        "id": "WnDwkcS9gu-C"
      },
      "source": [
        "###Train 8#: Training: forward, loss, backward, step for batch = 100, num_of_iter = 5000, learning rate 0.005 for Adadelta optimizer"
      ]
    },
    {
      "cell_type": "code",
      "metadata": {
        "id": "F_Uohyfsg2AH"
      },
      "source": [
        "optimizer = torch.optim.Adadelta(model.parameters(), lr=learning_rate, rho=0.9, eps=1e-06, weight_decay=0)"
      ],
      "execution_count": null,
      "outputs": []
    },
    {
      "cell_type": "code",
      "metadata": {
        "colab": {
          "base_uri": "https://localhost:8080/"
        },
        "id": "HvqpesbMg2KW",
        "outputId": "c76effdb-f45c-4fe0-9b4d-566f3e9e2421"
      },
      "source": [
        "'''\n",
        "TRAIN THE MODEL\n",
        "'''\n",
        "iteration_loss = []\n",
        "iter = 0\n",
        "for epoch in range(num_epochs):\n",
        "    for i, (images, labels) in enumerate(train_loader):\n",
        "\n",
        "        \n",
        "        images = images.view(-1, 28*28).to(device)\n",
        "        labels = labels.to(device)\n",
        "\n",
        "        # Clear gradients w.r.t. parameters\n",
        "        optimizer.zero_grad()\n",
        "\n",
        "        # Forward pass to get output/logits\n",
        "        logits, probas = model(images.float()) \n",
        "\n",
        "        # Calculate Loss: PyTorch implementation of CrossEntropyLoss works with logits, not probabilities\n",
        "        loss = F.cross_entropy(logits, labels)\n",
        "\n",
        "        # Getting gradients w.r.t. parameters\n",
        "        loss.backward()\n",
        "\n",
        "        # Updating parameters\n",
        "        optimizer.step()\n",
        "\n",
        "        iter += 1\n",
        "\n",
        "        if iter % 500 == 0:\n",
        "            # Calculate Accuracy         \n",
        "            correct = 0\n",
        "            total = 0\n",
        "            # Iterate through test dataset\n",
        "            for images, labels in test_loader:\n",
        "               \n",
        "                images = images.view(-1, 28*28).to(device)\n",
        "\n",
        "                # Forward pass only to get logits/output\n",
        "                logits, probas = model(images.float())\n",
        "\n",
        "                # Get predictions from the maximum value\n",
        "                _, predicted = torch.max(probas, 1)\n",
        "\n",
        "                # Total number of labels\n",
        "                total += labels.size(0)\n",
        "\n",
        "\n",
        "                # Total correct predictions\n",
        "                if torch.cuda.is_available():\n",
        "                    correct += (predicted.cpu() == labels.cpu()).sum() \n",
        "                else:\n",
        "                    correct += (predicted == labels).sum()\n",
        "\n",
        "            accuracy = 100 * correct.item() / total\n",
        "\n",
        "            # Print Loss\n",
        "            iteration_loss.append(loss.item())\n",
        "            print('Iteration: {}. Loss: {}. Accuracy: {}'.format(iter, loss.item(), accuracy))"
      ],
      "execution_count": null,
      "outputs": [
        {
          "output_type": "stream",
          "text": [
            "/usr/local/lib/python3.6/dist-packages/torch/nn/functional.py:1639: UserWarning: nn.functional.sigmoid is deprecated. Use torch.sigmoid instead.\n",
            "  warnings.warn(\"nn.functional.sigmoid is deprecated. Use torch.sigmoid instead.\")\n"
          ],
          "name": "stderr"
        },
        {
          "output_type": "stream",
          "text": [
            "Iteration: 500. Loss: 0.6758179664611816. Accuracy: 58.44956211482322\n",
            "Iteration: 1000. Loss: 0.6460205316543579. Accuracy: 58.319818358741486\n",
            "Iteration: 1500. Loss: 0.6129244565963745. Accuracy: 58.28738241972105\n",
            "Iteration: 2000. Loss: 0.6773240566253662. Accuracy: 58.027894907557574\n",
            "Iteration: 2500. Loss: 0.6269770264625549. Accuracy: 58.28738241972105\n",
            "Iteration: 3000. Loss: 0.6758952140808105. Accuracy: 58.19007460265975\n",
            "Iteration: 3500. Loss: 0.7007902264595032. Accuracy: 58.64417774894583\n",
            "Iteration: 4000. Loss: 0.6596431732177734. Accuracy: 58.51443399286409\n",
            "Iteration: 4500. Loss: 0.6431525945663452. Accuracy: 58.64417774894583\n",
            "Iteration: 5000. Loss: 0.6463912129402161. Accuracy: 58.67661368796627\n"
          ],
          "name": "stdout"
        }
      ]
    },
    {
      "cell_type": "code",
      "metadata": {
        "colab": {
          "base_uri": "https://localhost:8080/",
          "height": 316
        },
        "id": "LOGLnFtUg2S2",
        "outputId": "eaed7f72-ac64-4237-9bf4-ce0d8588bb1e"
      },
      "source": [
        "import matplotlib\n",
        "import matplotlib.pyplot as plt\n",
        "\n",
        "print (iteration_loss)\n",
        "plt.plot(iteration_loss)\n",
        "plt.ylabel('Cross Entropy Loss')\n",
        "plt.xlabel('Iteration (in every 500)')\n",
        "plt.show()"
      ],
      "execution_count": null,
      "outputs": [
        {
          "output_type": "stream",
          "text": [
            "[0.6758179664611816, 0.6460205316543579, 0.6129244565963745, 0.6773240566253662, 0.6269770264625549, 0.6758952140808105, 0.7007902264595032, 0.6596431732177734, 0.6431525945663452, 0.6463912129402161]\n"
          ],
          "name": "stdout"
        },
        {
          "output_type": "display_data",
          "data": {
            "image/png": "[encoded data removed]",
            "text/plain": [
              "<Figure size 432x288 with 1 Axes>"
            ]
          },
          "metadata": {
            "tags": [],
            "needs_background": "light"
          }
        }
      ]
    },
    {
      "cell_type": "markdown",
      "metadata": {
        "id": "V_DCIefviu65"
      },
      "source": [
        "Train 9#: Training: forward, loss, backward, step for batch = 100, num_of_iter = 5000, learning rate 0.005 for Adagrad optimizer"
      ]
    },
    {
      "cell_type": "code",
      "metadata": {
        "id": "XQ4Wc2nGittM"
      },
      "source": [
        "optimizer = torch.optim.Adagrad(model.parameters(), lr=learning_rate, lr_decay=0)"
      ],
      "execution_count": null,
      "outputs": []
    },
    {
      "cell_type": "code",
      "metadata": {
        "colab": {
          "base_uri": "https://localhost:8080/"
        },
        "id": "jDBCBZBWi5Wb",
        "outputId": "60b69054-d4b6-487f-8679-bff00099ae5e"
      },
      "source": [
        "'''\n",
        "TRAIN THE MODEL\n",
        "'''\n",
        "iteration_loss = []\n",
        "iter = 0\n",
        "for epoch in range(num_epochs):\n",
        "    for i, (images, labels) in enumerate(train_loader):\n",
        "\n",
        "        \n",
        "        images = images.view(-1, 28*28).to(device)\n",
        "        labels = labels.to(device)\n",
        "\n",
        "        # Clear gradients w.r.t. parameters\n",
        "        optimizer.zero_grad()\n",
        "\n",
        "        # Forward pass to get output/logits\n",
        "        logits, probas = model(images.float()) \n",
        "\n",
        "        # Calculate Loss: PyTorch implementation of CrossEntropyLoss works with logits, not probabilities\n",
        "        loss = F.cross_entropy(logits, labels)\n",
        "\n",
        "        # Getting gradients w.r.t. parameters\n",
        "        loss.backward()\n",
        "\n",
        "        # Updating parameters\n",
        "        optimizer.step()\n",
        "\n",
        "        iter += 1\n",
        "\n",
        "        if iter % 500 == 0:\n",
        "            # Calculate Accuracy         \n",
        "            correct = 0\n",
        "            total = 0\n",
        "            # Iterate through test dataset\n",
        "            for images, labels in test_loader:\n",
        "               \n",
        "                images = images.view(-1, 28*28).to(device)\n",
        "\n",
        "                # Forward pass only to get logits/output\n",
        "                logits, probas = model(images.float())\n",
        "\n",
        "                # Get predictions from the maximum value\n",
        "                _, predicted = torch.max(probas, 1)\n",
        "\n",
        "                # Total number of labels\n",
        "                total += labels.size(0)\n",
        "\n",
        "\n",
        "                # Total correct predictions\n",
        "                if torch.cuda.is_available():\n",
        "                    correct += (predicted.cpu() == labels.cpu()).sum() \n",
        "                else:\n",
        "                    correct += (predicted == labels).sum()\n",
        "\n",
        "            accuracy = 100 * correct.item() / total\n",
        "\n",
        "            # Print Loss\n",
        "            iteration_loss.append(loss.item())\n",
        "            print('Iteration: {}. Loss: {}. Accuracy: {}'.format(iter, loss.item(), accuracy))"
      ],
      "execution_count": null,
      "outputs": [
        {
          "output_type": "stream",
          "text": [
            "/usr/local/lib/python3.6/dist-packages/torch/nn/functional.py:1639: UserWarning: nn.functional.sigmoid is deprecated. Use torch.sigmoid instead.\n",
            "  warnings.warn(\"nn.functional.sigmoid is deprecated. Use torch.sigmoid instead.\")\n"
          ],
          "name": "stderr"
        },
        {
          "output_type": "stream",
          "text": [
            "Iteration: 500. Loss: 0.6770710945129395. Accuracy: 58.09276678559844\n",
            "Iteration: 1000. Loss: 0.6296424269676208. Accuracy: 57.606227700291925\n",
            "Iteration: 1500. Loss: 0.652589738368988. Accuracy: 57.184560493026275\n",
            "Iteration: 2000. Loss: 0.657683789730072. Accuracy: 58.22251054168018\n",
            "Iteration: 2500. Loss: 0.6602136492729187. Accuracy: 57.67109957833279\n",
            "Iteration: 3000. Loss: 0.6817768812179565. Accuracy: 57.606227700291925\n",
            "Iteration: 3500. Loss: 0.6395620107650757. Accuracy: 57.7684073953941\n",
            "Iteration: 4000. Loss: 0.6403299570083618. Accuracy: 57.8657152124554\n",
            "Iteration: 4500. Loss: 0.6326785683631897. Accuracy: 57.37917612714888\n",
            "Iteration: 5000. Loss: 0.6190881133079529. Accuracy: 57.50891988323062\n"
          ],
          "name": "stdout"
        }
      ]
    },
    {
      "cell_type": "code",
      "metadata": {
        "colab": {
          "base_uri": "https://localhost:8080/",
          "height": 316
        },
        "id": "oMMfw0KMi5Zj",
        "outputId": "506a8954-c3a9-41f2-cc93-a14465d53855"
      },
      "source": [
        "import matplotlib\n",
        "import matplotlib.pyplot as plt\n",
        "\n",
        "print (iteration_loss)\n",
        "plt.plot(iteration_loss)\n",
        "plt.ylabel('Cross Entropy Loss')\n",
        "plt.xlabel('Iteration (in every 500)')\n",
        "plt.show()"
      ],
      "execution_count": null,
      "outputs": [
        {
          "output_type": "stream",
          "text": [
            "[0.6770710945129395, 0.6296424269676208, 0.652589738368988, 0.657683789730072, 0.6602136492729187, 0.6817768812179565, 0.6395620107650757, 0.6403299570083618, 0.6326785683631897, 0.6190881133079529]\n"
          ],
          "name": "stdout"
        },
        {
          "output_type": "display_data",
          "data": {
            "image/png": "[encoded data removed]",
            "text/plain": [
              "<Figure size 432x288 with 1 Axes>"
            ]
          },
          "metadata": {
            "tags": [],
            "needs_background": "light"
          }
        }
      ]
    },
    {
      "cell_type": "markdown",
      "metadata": {
        "id": "z5jO4CsCkCaa"
      },
      "source": [
        "Train 10#: Training: forward, loss, backward, step for batch = 100, num_of_iter = 5000, learning rate 0.005 for RMSprop optimizer"
      ]
    },
    {
      "cell_type": "code",
      "metadata": {
        "id": "2KMHUssGkCqp"
      },
      "source": [
        "optimizer = torch.optim.RMSprop(model.parameters(), lr=learning_rate)"
      ],
      "execution_count": null,
      "outputs": []
    },
    {
      "cell_type": "code",
      "metadata": {
        "colab": {
          "base_uri": "https://localhost:8080/"
        },
        "id": "18mnwdzKkCve",
        "outputId": "4cae959a-9876-4c7d-9083-fe333d47e516"
      },
      "source": [
        "'''\n",
        "TRAIN THE MODEL\n",
        "'''\n",
        "iteration_loss = []\n",
        "iter = 0\n",
        "for epoch in range(num_epochs):\n",
        "    for i, (images, labels) in enumerate(train_loader):\n",
        "\n",
        "        \n",
        "        images = images.view(-1, 28*28).to(device)\n",
        "        labels = labels.to(device)\n",
        "\n",
        "        # Clear gradients w.r.t. parameters\n",
        "        optimizer.zero_grad()\n",
        "\n",
        "        # Forward pass to get output/logits\n",
        "        logits, probas = model(images.float()) \n",
        "\n",
        "        # Calculate Loss: PyTorch implementation of CrossEntropyLoss works with logits, not probabilities\n",
        "        loss = F.cross_entropy(logits, labels)\n",
        "\n",
        "        # Getting gradients w.r.t. parameters\n",
        "        loss.backward()\n",
        "\n",
        "        # Updating parameters\n",
        "        optimizer.step()\n",
        "\n",
        "        iter += 1\n",
        "\n",
        "        if iter % 500 == 0:\n",
        "            # Calculate Accuracy         \n",
        "            correct = 0\n",
        "            total = 0\n",
        "            # Iterate through test dataset\n",
        "            for images, labels in test_loader:\n",
        "               \n",
        "                images = images.view(-1, 28*28).to(device)\n",
        "\n",
        "                # Forward pass only to get logits/output\n",
        "                logits, probas = model(images.float())\n",
        "\n",
        "                # Get predictions from the maximum value\n",
        "                _, predicted = torch.max(probas, 1)\n",
        "\n",
        "                # Total number of labels\n",
        "                total += labels.size(0)\n",
        "\n",
        "\n",
        "                # Total correct predictions\n",
        "                if torch.cuda.is_available():\n",
        "                    correct += (predicted.cpu() == labels.cpu()).sum() \n",
        "                else:\n",
        "                    correct += (predicted == labels).sum()\n",
        "\n",
        "            accuracy = 100 * correct.item() / total\n",
        "\n",
        "            # Print Loss\n",
        "            iteration_loss.append(loss.item())\n",
        "            print('Iteration: {}. Loss: {}. Accuracy: {}'.format(iter, loss.item(), accuracy))"
      ],
      "execution_count": null,
      "outputs": [
        {
          "output_type": "stream",
          "text": [
            "/usr/local/lib/python3.6/dist-packages/torch/nn/functional.py:1639: UserWarning: nn.functional.sigmoid is deprecated. Use torch.sigmoid instead.\n",
            "  warnings.warn(\"nn.functional.sigmoid is deprecated. Use torch.sigmoid instead.\")\n"
          ],
          "name": "stderr"
        },
        {
          "output_type": "stream",
          "text": [
            "Iteration: 500. Loss: 0.9018403887748718. Accuracy: 56.56827765163801\n",
            "Iteration: 1000. Loss: 0.8016624450683594. Accuracy: 55.75737917612715\n",
            "Iteration: 1500. Loss: 0.6743634939193726. Accuracy: 52.286733700940644\n",
            "Iteration: 2000. Loss: 0.719412088394165. Accuracy: 57.216996432046706\n",
            "Iteration: 2500. Loss: 0.6103846430778503. Accuracy: 55.88712293220889\n",
            "Iteration: 3000. Loss: 0.7272274494171143. Accuracy: 52.02724618877716\n",
            "Iteration: 3500. Loss: 0.6877433061599731. Accuracy: 53.45442750567629\n",
            "Iteration: 4000. Loss: 0.8457466959953308. Accuracy: 50.98929614012326\n",
            "Iteration: 4500. Loss: 0.7156524658203125. Accuracy: 57.37917612714888\n",
            "Iteration: 5000. Loss: 0.6988064050674438. Accuracy: 56.60071359065845\n"
          ],
          "name": "stdout"
        }
      ]
    },
    {
      "cell_type": "code",
      "metadata": {
        "id": "N24smNbekC0S"
      },
      "source": [
        "import matplotlib\n",
        "import matplotlib.pyplot as plt\n",
        "\n",
        "print (iteration_loss)\n",
        "plt.plot(iteration_loss)\n",
        "plt.ylabel('Cross Entropy Loss')\n",
        "plt.xlabel('Iteration (in every 500)')\n",
        "plt.show()"
      ],
      "execution_count": null,
      "outputs": []
    },
    {
      "cell_type": "markdown",
      "metadata": {
        "id": "FQLsRATUnfnS"
      },
      "source": [
        "Train 11#: Training: forward, loss, backward, step for batch = 100, num_of_iter = 5000, learning rate 0.01 for SGD optimizer with momentum"
      ]
    },
    {
      "cell_type": "code",
      "metadata": {
        "id": "xYVR1_Y9nf3I"
      },
      "source": [
        "optimizer = torch.optim.SGD(model.parameters(), lr=0.01, momentum=0.9)"
      ],
      "execution_count": null,
      "outputs": []
    },
    {
      "cell_type": "code",
      "metadata": {
        "colab": {
          "base_uri": "https://localhost:8080/"
        },
        "id": "aVq2eMdJnf7a",
        "outputId": "343b4687-c764-4f14-f57b-268ea6a41f0b"
      },
      "source": [
        "'''\n",
        "TRAIN THE MODEL\n",
        "'''\n",
        "iteration_loss = []\n",
        "iter = 0\n",
        "for epoch in range(num_epochs):\n",
        "    for i, (images, labels) in enumerate(train_loader):\n",
        "\n",
        "        \n",
        "        images = images.view(-1, 28*28).to(device)\n",
        "        labels = labels.to(device)\n",
        "\n",
        "        # Clear gradients w.r.t. parameters\n",
        "        optimizer.zero_grad()\n",
        "\n",
        "        # Forward pass to get output/logits\n",
        "        logits, probas = model(images.float()) \n",
        "\n",
        "        # Calculate Loss: PyTorch implementation of CrossEntropyLoss works with logits, not probabilities\n",
        "        loss = F.cross_entropy(logits, labels)\n",
        "\n",
        "        # Getting gradients w.r.t. parameters\n",
        "        loss.backward()\n",
        "\n",
        "        # Updating parameters\n",
        "        optimizer.step()\n",
        "\n",
        "        iter += 1\n",
        "\n",
        "        if iter % 500 == 0:\n",
        "            # Calculate Accuracy         \n",
        "            correct = 0\n",
        "            total = 0\n",
        "            # Iterate through test dataset\n",
        "            for images, labels in test_loader:\n",
        "               \n",
        "                images = images.view(-1, 28*28).to(device)\n",
        "\n",
        "                # Forward pass only to get logits/output\n",
        "                logits, probas = model(images.float())\n",
        "\n",
        "                # Get predictions from the maximum value\n",
        "                _, predicted = torch.max(probas, 1)\n",
        "\n",
        "                # Total number of labels\n",
        "                total += labels.size(0)\n",
        "\n",
        "\n",
        "                # Total correct predictions\n",
        "                if torch.cuda.is_available():\n",
        "                    correct += (predicted.cpu() == labels.cpu()).sum() \n",
        "                else:\n",
        "                    correct += (predicted == labels).sum()\n",
        "\n",
        "            accuracy = 100 * correct.item() / total\n",
        "\n",
        "            # Print Loss\n",
        "            iteration_loss.append(loss.item())\n",
        "            print('Iteration: {}. Loss: {}. Accuracy: {}'.format(iter, loss.item(), accuracy))"
      ],
      "execution_count": null,
      "outputs": [
        {
          "output_type": "stream",
          "text": [
            "/usr/local/lib/python3.6/dist-packages/torch/nn/functional.py:1639: UserWarning: nn.functional.sigmoid is deprecated. Use torch.sigmoid instead.\n",
            "  warnings.warn(\"nn.functional.sigmoid is deprecated. Use torch.sigmoid instead.\")\n"
          ],
          "name": "stderr"
        },
        {
          "output_type": "stream",
          "text": [
            "Iteration: 500. Loss: 0.671078622341156. Accuracy: 57.541355822251056\n",
            "Iteration: 1000. Loss: 0.6507434248924255. Accuracy: 56.79532922478106\n",
            "Iteration: 1500. Loss: 0.6420186758041382. Accuracy: 58.44956211482322\n",
            "Iteration: 2000. Loss: 0.7013269662857056. Accuracy: 57.249432371067144\n",
            "Iteration: 2500. Loss: 0.6826412081718445. Accuracy: 57.184560493026275\n",
            "Iteration: 3000. Loss: 0.6352545022964478. Accuracy: 57.15212455400584\n",
            "Iteration: 3500. Loss: 0.6686646342277527. Accuracy: 57.15212455400584\n",
            "Iteration: 4000. Loss: 0.6972860097885132. Accuracy: 57.41161206616932\n",
            "Iteration: 4500. Loss: 0.6334566473960876. Accuracy: 57.73597145637366\n",
            "Iteration: 5000. Loss: 0.6705312132835388. Accuracy: 58.41712617580279\n"
          ],
          "name": "stdout"
        }
      ]
    },
    {
      "cell_type": "code",
      "metadata": {
        "colab": {
          "base_uri": "https://localhost:8080/",
          "height": 316
        },
        "id": "ad5dYy00ngSz",
        "outputId": "9763a1f4-18c0-46f0-853a-3d971a6be9f4"
      },
      "source": [
        "import matplotlib\n",
        "import matplotlib.pyplot as plt\n",
        "\n",
        "print (iteration_loss)\n",
        "plt.plot(iteration_loss)\n",
        "plt.ylabel('Cross Entropy Loss')\n",
        "plt.xlabel('Iteration (in every 500)')\n",
        "plt.show()"
      ],
      "execution_count": null,
      "outputs": [
        {
          "output_type": "stream",
          "text": [
            "[0.671078622341156, 0.6507434248924255, 0.6420186758041382, 0.7013269662857056, 0.6826412081718445, 0.6352545022964478, 0.6686646342277527, 0.6972860097885132, 0.6334566473960876, 0.6705312132835388]\n"
          ],
          "name": "stdout"
        },
        {
          "output_type": "display_data",
          "data": {
            "image/png": "[encoded data removed]",
            "text/plain": [
              "<Figure size 432x288 with 1 Axes>"
            ]
          },
          "metadata": {
            "tags": [],
            "needs_background": "light"
          }
        }
      ]
    },
    {
      "cell_type": "markdown",
      "metadata": {
        "id": "NOHgXDLrqlzx"
      },
      "source": [
        "Train 12#: Training: forward, loss, backward, step for batch = 100, num_of_iter = 5000, learning rate 0.0105 for SGD optimizer with momentum"
      ]
    },
    {
      "cell_type": "code",
      "metadata": {
        "id": "I7MsL4C9r_cD"
      },
      "source": [
        "class LogisticRegressionModel(nn.Module):\n",
        "    def __init__(self, input_size, num_classes):\n",
        "        super().__init__()\n",
        "        self.linear = nn.Linear(input_size, num_classes)\n",
        "\n",
        "    def forward(self, x):\n",
        "        logits  = self.linear(x)\n",
        "        probas = F.softmax(logits, dim=1)\n",
        "        return logits, probas"
      ],
      "execution_count": null,
      "outputs": []
    },
    {
      "cell_type": "code",
      "metadata": {
        "colab": {
          "base_uri": "https://localhost:8080/"
        },
        "id": "niD6l8qXsE0Y",
        "outputId": "4d389fd7-7041-4c51-c154-e7aaaf3ab728"
      },
      "source": [
        "'''\n",
        "INSTANTIATE MODEL CLASS\n",
        "'''\n",
        "model = LogisticRegressionModel(input_size=input_dim,\n",
        "                                num_classes=output_dim)\n",
        "# To enable GPU\n",
        "model.to(device)\n"
      ],
      "execution_count": null,
      "outputs": [
        {
          "output_type": "execute_result",
          "data": {
            "text/plain": [
              "LogisticRegressionModel(\n",
              "  (linear): Linear(in_features=784, out_features=2, bias=True)\n",
              ")"
            ]
          },
          "metadata": {
            "tags": []
          },
          "execution_count": 157
        }
      ]
    },
    {
      "cell_type": "code",
      "metadata": {
        "id": "hKJ-nORXsLnq"
      },
      "source": [
        "# INSTANTIATE OPTIMIZER CLASS\n",
        "optimizer = torch.optim.SGD(model.parameters(), lr=learning_rate)"
      ],
      "execution_count": null,
      "outputs": []
    },
    {
      "cell_type": "code",
      "metadata": {
        "colab": {
          "base_uri": "https://localhost:8080/"
        },
        "id": "iV28u6AQsTu9",
        "outputId": "d7e750cf-fe17-428d-9aeb-a2a1952d903f"
      },
      "source": [
        "'''\n",
        "TRAIN THE MODEL\n",
        "'''\n",
        "iteration_loss = []\n",
        "iter = 0\n",
        "for epoch in range(num_epochs):\n",
        "    for i, (images, labels) in enumerate(train_loader):\n",
        "\n",
        "        \n",
        "        images = images.view(-1, 28*28).to(device)\n",
        "        labels = labels.to(device)\n",
        "\n",
        "        # Clear gradients w.r.t. parameters\n",
        "        optimizer.zero_grad()\n",
        "\n",
        "        # Forward pass to get output/logits\n",
        "        logits, probas = model(images.float()) \n",
        "\n",
        "        # Calculate Loss: PyTorch implementation of CrossEntropyLoss works with logits, not probabilities\n",
        "        loss = F.cross_entropy(logits, labels)\n",
        "\n",
        "        # Getting gradients w.r.t. parameters\n",
        "        loss.backward()\n",
        "\n",
        "        # Updating parameters\n",
        "        optimizer.step()\n",
        "\n",
        "        iter += 1\n",
        "\n",
        "        if iter % 500 == 0:\n",
        "            # Calculate Accuracy         \n",
        "            correct = 0\n",
        "            total = 0\n",
        "            # Iterate through test dataset\n",
        "            for images, labels in test_loader:\n",
        "               \n",
        "                images = images.view(-1, 28*28).to(device)\n",
        "\n",
        "                # Forward pass only to get logits/output\n",
        "                logits, probas = model(images.float())\n",
        "\n",
        "                # Get predictions from the maximum value\n",
        "                _, predicted = torch.max(probas, 1)\n",
        "\n",
        "                # Total number of labels\n",
        "                total += labels.size(0)\n",
        "\n",
        "\n",
        "                # Total correct predictions\n",
        "                if torch.cuda.is_available():\n",
        "                    correct += (predicted.cpu() == labels.cpu()).sum() \n",
        "                else:\n",
        "                    correct += (predicted == labels).sum()\n",
        "\n",
        "            accuracy = 100 * correct.item() / total\n",
        "\n",
        "            # Print Loss\n",
        "            iteration_loss.append(loss.item())\n",
        "            print('Iteration: {}. Loss: {}. Accuracy: {}'.format(iter, loss.item(), accuracy))"
      ],
      "execution_count": null,
      "outputs": [
        {
          "output_type": "stream",
          "text": [
            "Iteration: 500. Loss: 0.6612120866775513. Accuracy: 58.87122932208887\n",
            "Iteration: 1000. Loss: 0.6893187761306763. Accuracy: 58.25494648070062\n",
            "Iteration: 1500. Loss: 0.6731951236724854. Accuracy: 58.48199805384366\n",
            "Iteration: 2000. Loss: 0.6617110967636108. Accuracy: 59.3577684073954\n",
            "Iteration: 2500. Loss: 0.6414650678634644. Accuracy: 59.3577684073954\n",
            "Iteration: 3000. Loss: 0.6536688208580017. Accuracy: 59.61725591955887\n",
            "Iteration: 3500. Loss: 0.6452279090881348. Accuracy: 59.584819980538434\n",
            "Iteration: 4000. Loss: 0.6284884810447693. Accuracy: 59.941615309763215\n",
            "Iteration: 4500. Loss: 0.6821850538253784. Accuracy: 59.098280895231916\n",
            "Iteration: 5000. Loss: 0.6601450443267822. Accuracy: 59.487512163477135\n"
          ],
          "name": "stdout"
        }
      ]
    },
    {
      "cell_type": "code",
      "metadata": {
        "colab": {
          "base_uri": "https://localhost:8080/",
          "height": 316
        },
        "id": "GTno0CZMsYND",
        "outputId": "a35c4fbb-329b-447a-a986-77b06c5ec3a4"
      },
      "source": [
        "import matplotlib\n",
        "import matplotlib.pyplot as plt\n",
        "\n",
        "print (iteration_loss)\n",
        "plt.plot(iteration_loss)\n",
        "plt.ylabel('Cross Entropy Loss')\n",
        "plt.xlabel('Iteration (in every 500)')\n",
        "plt.show()"
      ],
      "execution_count": null,
      "outputs": [
        {
          "output_type": "stream",
          "text": [
            "[0.6612120866775513, 0.6893187761306763, 0.6731951236724854, 0.6617110967636108, 0.6414650678634644, 0.6536688208580017, 0.6452279090881348, 0.6284884810447693, 0.6821850538253784, 0.6601450443267822]\n"
          ],
          "name": "stdout"
        },
        {
          "output_type": "display_data",
          "data": {
            "image/png": "[encoded data removed]",
            "text/plain": [
              "<Figure size 432x288 with 1 Axes>"
            ]
          },
          "metadata": {
            "tags": [],
            "needs_background": "light"
          }
        }
      ]
    },
    {
      "cell_type": "markdown",
      "metadata": {
        "id": "CXPW2jCCL08D"
      },
      "source": [
        "# **Assignment #2**#\n",
        " **ID:16.02.04.070**\n",
        "- **1st Settings:**\n",
        "First I have tried with smaller batch size of 32 and went with a 0.001 learning rate and iterated them with 4000 times. I will later increase the batch size and learning rate little by little to see if the model does better.Used the SGD optimizer and as this is a binary classification problem, used sigmoid activation function.\n",
        "- **2nd Settings:**\n",
        "Started increasing the batch size from 32 to 50.Accuracy got somewhat decreased.\n",
        "- **3rd Settings:**\n",
        "Started increasing the batch size from 50 to 80.Accuracy got somewhat increased.Crossentropy loss decreased.\n",
        "- **4th Settings:**\n",
        "Increased the number of interation to 5000. Accuracy didn't change much but the cross entropy loss graph looked bad.\n",
        "![image.png](data:image/png;base64,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)\n",
        "- **5th Settings:**\n",
        "Increased the batch size to 100 and learning rate to 0.01. Accuracy hit 58.8% but the model seemed to be overfed.\n",
        "- **6th Settings:**\n",
        "decreadsed the learning rate to 0.005. Accuracy didn't change much.\n",
        "\n",
        "All there time, the accuracy was like 58.7% to 59.3%, so I tried to bring changes in the optimizer to see what happens.\n",
        "- **7th Settings:**\n",
        "\n",
        "changed to the Adam optimizer.Accuracy was slightly lower than the SGD optimizer.\n",
        "- **8th Settings:**\n",
        "\n",
        "changed to the Adadelta optimizer.Accuracy was slightly better than the Adam optimizer.\n",
        "- **9th Settings:**\n",
        "\n",
        "changed to the Adagrad optimizer.It is a gradiant decent one. Accuracy was lower than other optimizers.\n",
        "- **10th Settings:**\n",
        "\n",
        "changed to the RMSprop optimizer. Accuracy was much lower than other optimizers.\n",
        "- **11th Settings:**\n",
        "Tried the SGD optimiger with momentum. It gave better accuracy than the recent optimizers.\n",
        "\n",
        "- **12th Settings:**\n",
        "Softmax is a generalization of te sigmoid function, for binary classes, softmax is the same as sigmoid. So, i tried to implement softmax for binary classification. Softmax with SGD gave almost identical result with Sigmoid with SGD.\n",
        "\n",
        "\n",
        "\n",
        "No.|batch_size | num_iters | learning rate|accuracy|optimizer|activation function|\n",
        "---|---|---|---|---|---|---|\n",
        "1|32|4000|0.001|58.709049626986705%|SGD|sigmoid|\n",
        "2|50|4000|0.001|49.10801167693805%|SGD|sigmoid|\n",
        "3|80|4000|0.001|58.77392150502757%|SGD|sigmoid|\n",
        "4|80|5000|0.001|58.35225429776192%|SGD|sigmoid|\n",
        "5|100|4000|0.01|58.806357444048004%|SGD|sigmoid|\n",
        "6|100|5000|0.005|59.3577684073954%|SGD|sigmoid|\n",
        "7|100|5000|0.005|58.15763866363931%|Adam|sigmoid|\n",
        "8|100|5000|0.005|58.67661368796627%|Adadelta|sigmoid|\n",
        "9|100|5000|0.005|57.50891988323062%|Adagrad|sigmoid|\n",
        "10|100|5000|0.005|56.60071359065845%|RMSprop|sigmoid|\n",
        "11|100|5000|0.01|58.41712617580279%|SGD(momentum)|sigmoid|\n",
        "12|100|5000|0.005|59.487512163477135%|SGD|softmax|"
      ]
    },
    {
      "cell_type": "code",
      "metadata": {
        "id": "CnprVEoyMnzG"
      },
      "source": [
        "root_path = '/content/gdrive/MyDrive/Colab Notebooks/pickle Files'"
      ],
      "execution_count": null,
      "outputs": []
    },
    {
      "cell_type": "code",
      "metadata": {
        "id": "W7bOdMvRMsou"
      },
      "source": [
        "save_model = True\n",
        "\n",
        "if save_model is True:\n",
        "    # Saves only parameters\n",
        "    # wights & biases\n",
        "    torch.save(model.state_dict(), root_path + 'ekushe_logisticR12.pkl') "
      ],
      "execution_count": null,
      "outputs": []
    },
    {
      "cell_type": "code",
      "metadata": {
        "colab": {
          "base_uri": "https://localhost:8080/"
        },
        "id": "caNfAXdYMvhq",
        "outputId": "41a85670-7c88-49c0-b3d2-7c1985803aae"
      },
      "source": [
        "load_model = True\n",
        "\n",
        "if load_model is True:\n",
        "    model.load_state_dict(torch.load(root_path + 'ekushe_logisticR12.pkl'))\n",
        "    print('Trained Model Loaded')"
      ],
      "execution_count": null,
      "outputs": [
        {
          "output_type": "stream",
          "text": [
            "Trained Model Loaded\n"
          ],
          "name": "stdout"
        }
      ]
    }
  ]
}